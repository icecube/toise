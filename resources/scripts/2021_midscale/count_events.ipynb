{
 "cells": [
  {
   "cell_type": "code",
   "execution_count": 3,
   "metadata": {},
   "outputs": [],
   "source": [
    "import numpy\n",
    "from gen2_analysis import factory, diffuse, plotting, effective_areas\n",
    "%matplotlib inline\n",
    "import matplotlib.pyplot as plt"
   ]
  },
  {
   "cell_type": "code",
   "execution_count": 11,
   "metadata": {},
   "outputs": [
    {
     "name": "stdout",
     "output_type": "stream",
     "text": [
      "Surface Area is 3.53509545055\n"
     ]
    }
   ],
   "source": [
    "# cook up the custom HCR geometry\n",
    "cos_theta = factory.default_cos_theta_bins\n",
    "psi_bins = dict(factory.default_psi_bins)\n",
    "the_geom = 'Sunflower_sparse'\n",
    "surface = effective_areas.get_fiducial_surface(the_geom, spacing=240, padding=0)\n",
    "area = surface.azimuth_averaged_area(-1.)/1e6 # what is the footprint size for straight downgoing events\n",
    "print(\"Surface Area is {}\".format(area))\n",
    "\n",
    "opts = dict(geometry=the_geom, spacing=240,veto_area=area, veto_threshold=1e5)\n",
    "kwargs = {\n",
    "    'cos_theta': cos_theta,\n",
    "    'psi_bins': psi_bins,\n",
    "#     'psf_class': None\n",
    "}\n",
    "factory.add_configuration('Gen2-HCR', factory.make_options(**opts), **kwargs)"
   ]
  },
  {
   "cell_type": "code",
   "execution_count": 12,
   "metadata": {},
   "outputs": [
    {
     "name": "stdout",
     "output_type": "stream",
     "text": [
      "Warning! Hack! For energy resolution, overriding the requested geometry (Sunflower_sparse) with the standard (Sunflower)\n",
      "total num above 100 TeV 47.6843672085\n"
     ]
    }
   ],
   "source": [
    "# change the factory defaults\n",
    "factory.set_kwargs(psi_bins={k: [0, numpy.pi] for k in ('tracks', 'cascades', 'radio')})\n",
    "factory.set_kwargs(cos_theta=[-1,1])\n",
    "\n",
    "def make_components(aeffs):\n",
    "    nu, mu = aeffs\n",
    "    energy_threshold = numpy.inf\n",
    "    astro = diffuse.DiffuseAstro(nu, livetime=1)\n",
    "    return dict(astro=astro)\n",
    "\n",
    "aeffs = factory.get('IceCube')\n",
    "unshadow_nu, unshadow_mu = aeffs['unshadowed_tracks']\n",
    "energy_edges = unshadow_nu.get_bin_edges('reco_energy')\n",
    "energy_centers = unshadow_nu.get_bin_centers('reco_energy')\n",
    "mask = energy_centers > 1e5\n",
    "\n",
    "bundle = factory.component_bundle({'IceCube': 0, 'Gen2-InIce': 0, 'Gen2-HCR': 1}, make_components)\n",
    "components = bundle.get_components()\n",
    "expectations = components['astro'].expectations(gamma=-2.)\n",
    "total = numpy.zeros([len(energy_centers)]) # empty array for total numbers\n",
    "for stream, counts in expectations.iteritems():\n",
    "    if 'shadow' in stream: # count both the shadowed and unshadowed tracks\n",
    "        total += counts\n",
    "\n",
    "total_num = numpy.sum(total[mask])\n",
    "print(\"total num above 100 TeV {}\".format(total_num))"
   ]
  },
  {
   "cell_type": "code",
   "execution_count": 29,
   "metadata": {},
   "outputs": [],
   "source": [
    "# plt.plot(*plotting.stepped_path(energy_edges, total))\n",
    "# plt.legend()\n",
    "# plt.loglog()\n",
    "# plt.ylim(1e-2,1e3)"
   ]
  },
  {
   "cell_type": "code",
   "execution_count": null,
   "metadata": {},
   "outputs": [],
   "source": []
  }
 ],
 "metadata": {
  "kernelspec": {
   "display_name": "Python 2",
   "language": "python",
   "name": "python2"
  },
  "language_info": {
   "codemirror_mode": {
    "name": "ipython",
    "version": 2
   },
   "file_extension": ".py",
   "mimetype": "text/x-python",
   "name": "python",
   "nbconvert_exporter": "python",
   "pygments_lexer": "ipython2",
   "version": "2.7.15"
  }
 },
 "nbformat": 4,
 "nbformat_minor": 4
}
