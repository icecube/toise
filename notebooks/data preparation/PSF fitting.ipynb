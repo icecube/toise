{
 "cells": [
  {
   "cell_type": "markdown",
   "metadata": {},
   "source": [
    "# PSF fitting for Gen2 benchmark analysis\n",
    "\n",
    "This notebook demonstrates how point spread functions can be parameterized for the gen2-analysis framework. The end product is a pair of B-splines that describes the parameters of a Moffat function (see http://fermi.gsfc.nasa.gov/ssc/data/analysis/documentation/Cicerone/Cicerone_LAT_IRFs/IRF_PSF.html) as a function of muon energy and zenith angle."
   ]
  },
  {
   "cell_type": "code",
   "execution_count": 23,
   "metadata": {},
   "outputs": [],
   "source": [
    "%matplotlib inline\n",
    "import os\n",
    "import warnings\n",
    "\n",
    "import autograd\n",
    "import autograd.numpy as n\n",
    "import matplotlib.pyplot as plt\n",
    "import numpy as np\n",
    "import pandas as pd\n",
    "import photospline\n",
    "import tables\n",
    "from autograd.misc.flatten import flatten_func\n",
    "from scipy import optimize\n",
    "from toolz import memoize\n",
    "\n",
    "from toise import angular_resolution, effective_areas, plotting, surfaces, util\n",
    "\n",
    "warnings.filterwarnings(\"ignore\")  # turn off warnings"
   ]
  },
  {
   "cell_type": "markdown",
   "metadata": {},
   "source": [
    "First, load MC data. Each entry comes with a zenith angle (cos_theta), energy, angular error, and effective area weight (aeff). The effective area weight has units *sr m^2 GeV*.\n",
    "\n",
    "For demonstration purposes we generate a fake dataset where we know the exact underlying effective area and point-spread function."
   ]
  },
  {
   "cell_type": "code",
   "execution_count": 27,
   "metadata": {},
   "outputs": [],
   "source": [
    "from scipy import stats\n",
    "\n",
    "\n",
    "class DummyDataset:\n",
    "    \"\"\"\n",
    "    A fake dataset to demonstrate PSF and selection efficiency fitting.\n",
    "    \"\"\"\n",
    "\n",
    "    # reference surface on which tracks are generated\n",
    "    surface = surfaces.get_fiducial_surface(\"Fictive\")\n",
    "\n",
    "    def king_params(self, energy, cos_theta):\n",
    "        \"\"\":returns: sigma, gamma\"\"\"\n",
    "        return angular_resolution.FictiveKingPointSpreadFunction().get_params(\n",
    "            np.log10(energy), cos_theta\n",
    "        )\n",
    "\n",
    "    def selection_efficiency(self, energy, cos_theta):\n",
    "        \"\"\":returns: efficiency w.r.t. fiducial surface\"\"\"\n",
    "        return effective_areas.FictiveMuonSelectionEfficiency()(energy, cos_theta)\n",
    "\n",
    "    @staticmethod\n",
    "    def _sample_powerlaw(emin, emax, gamma, size):\n",
    "        \"\"\"returns x, dP/dx\"\"\"\n",
    "        p = stats.uniform().rvs(size=size)\n",
    "        x = (p * (emax ** (1 - gamma) - emin ** (1 - gamma)) + emin ** (1 - gamma)) ** (\n",
    "            1.0 / (1 - gamma)\n",
    "        )\n",
    "        return x, (1 - gamma) * (x**-gamma) / (\n",
    "            emax ** (1 - gamma) - emin ** (1 - gamma)\n",
    "        )\n",
    "\n",
    "    @memoize\n",
    "    def sample(self, size=1000):\n",
    "        cos_theta = stats.uniform(-1, 2).rvs(size=size)\n",
    "        energy, dPdE = self._sample_powerlaw(1e3, 1e9, 1.4, size)\n",
    "        # 1/(number of events injected per unit solid angle, area, energy)\n",
    "        effective_area_weight = (\n",
    "            (4 * np.pi) * self.surface.azimuth_averaged_area(cos_theta) / dPdE / size\n",
    "        )\n",
    "\n",
    "        # set weights to zero for samples rejected by cut\n",
    "        mask = np.where(\n",
    "            stats.uniform().rvs(size=size)\n",
    "            < self.selection_efficiency(energy, cos_theta),\n",
    "            1,\n",
    "            0,\n",
    "        )\n",
    "\n",
    "        sigma, gamma = self.king_params(energy, cos_theta)\n",
    "\n",
    "        # sample from moffat/king distribution by numerically inverting the CDF (~2000 samples/s on Apple M1)\n",
    "        opening_angle = angular_resolution.king(sigma=sigma, gamma=gamma).rvs(size=size)\n",
    "\n",
    "        return pd.DataFrame(\n",
    "            {\n",
    "                \"aeff\": effective_area_weight * mask,\n",
    "                \"energy\": energy,\n",
    "                \"cos_zenith\": cos_theta,\n",
    "                \"opening_angle\": opening_angle,\n",
    "            }\n",
    "        )"
   ]
  },
  {
   "cell_type": "markdown",
   "metadata": {},
   "source": [
    "Now, actually generate the sample. This can take ~minutes, as the angular CDF needs to be inverted numerically in order to sample from it."
   ]
  },
  {
   "cell_type": "code",
   "execution_count": 28,
   "metadata": {},
   "outputs": [],
   "source": [
    "dataset = DummyDataset()\n",
    "dats = dataset.sample(size=100000)"
   ]
  },
  {
   "cell_type": "markdown",
   "metadata": {},
   "source": [
    "In a real application you would have data from an actual detector simulation. For reference, here's how you would load an IceCube-Gen2 simulation dataset:"
   ]
  },
  {
   "cell_type": "code",
   "execution_count": 29,
   "metadata": {},
   "outputs": [],
   "source": [
    "@memoize\n",
    "def load_dataset(hdf_fname):\n",
    "    dfs = {}\n",
    "    # read each table into a DataFrame\n",
    "    with tables.open_file(hdf_fname) as hdf:\n",
    "        for tab in (\n",
    "            \"MCMuon\",\n",
    "            \"MuonEffectiveArea\",\n",
    "            \"SplineMPEMuEXDifferential\",\n",
    "            \"LineFit\",\n",
    "            \"SplineMPE_recommendedFitParams\",\n",
    "            \"SplineMPE_recommendedDirectHitsC\",\n",
    "        ):\n",
    "            dfs[tab] = pd.DataFrame(\n",
    "                hdf.get_node(\"/\" + tab).read_where(\"exists==1\")\n",
    "            ).set_index([\"Run\", \"Event\", \"SubEvent\", \"SubEventStream\"])\n",
    "    # apply event selection\n",
    "    mask = (\n",
    "        (dfs[\"LineFit\"][\"speed\"] < 0.6)\n",
    "        & (dfs[\"SplineMPE_recommendedFitParams\"][\"rlogl\"] < 8.5)\n",
    "        & (dfs[\"SplineMPE_recommendedDirectHitsC\"][\"n_dir_doms\"] > 6)\n",
    "        & (dfs[\"SplineMPE_recommendedDirectHitsC\"][\"dir_track_length\"] > 120)\n",
    "    )\n",
    "    # angular reconstruction error\n",
    "    def cartesian_components(df):\n",
    "        theta = df[\"zenith\"]\n",
    "        phi = df[\"azimuth\"]\n",
    "        return (\n",
    "            -np.sin(theta) * np.cos(phi),\n",
    "            -np.sin(theta) * np.sin(phi),\n",
    "            -np.cos(theta),\n",
    "        )\n",
    "\n",
    "    def opening_angle(df1, df2):\n",
    "        x1, y1, z1 = cartesian_components(df1)\n",
    "        x2, y2, z2 = cartesian_components(df2)\n",
    "        return np.arccos(x1 * x2 + y1 * y2 + z1 * z2)\n",
    "\n",
    "    # pack relevant quantities into a single DataFrame\n",
    "    dats = pd.DataFrame(\n",
    "        {\n",
    "            \"opening_angle\": np.degrees(\n",
    "                opening_angle(\n",
    "                    dfs[\"MCMuon\"].loc[mask], dfs[\"SplineMPEMuEXDifferential\"].loc[mask]\n",
    "                )\n",
    "            ),\n",
    "            \"aeff\": dfs[\"MuonEffectiveArea\"][\"value\"].loc[mask],\n",
    "            \"energy\": dfs[\"MCMuon\"][\"energy\"].loc[mask],\n",
    "            \"cos_zenith\": np.cos(dfs[\"MCMuon\"][\"zenith\"].loc[mask]),\n",
    "        }\n",
    "    )\n",
    "    return dats\n",
    "\n",
    "\n",
    "# fiducial_surface = surfaces.get_fiducial_surface(\"Sunflower\", 240)\n",
    "# dats = load_dataset('/Users/jakob/Documents/IceCube/metaprojects/icerec-lite/build/ErrorEstimator_GEN2.hdf5')"
   ]
  },
  {
   "cell_type": "markdown",
   "metadata": {},
   "source": [
    "Get a feeling for the range of energies and zenith angles we're dealing with"
   ]
  },
  {
   "cell_type": "code",
   "execution_count": 30,
   "metadata": {},
   "outputs": [
    {
     "data": {
      "text/html": [
       "<div>\n",
       "<style scoped>\n",
       "    .dataframe tbody tr th:only-of-type {\n",
       "        vertical-align: middle;\n",
       "    }\n",
       "\n",
       "    .dataframe tbody tr th {\n",
       "        vertical-align: top;\n",
       "    }\n",
       "\n",
       "    .dataframe thead th {\n",
       "        text-align: right;\n",
       "    }\n",
       "</style>\n",
       "<table border=\"1\" class=\"dataframe\">\n",
       "  <thead>\n",
       "    <tr style=\"text-align: right;\">\n",
       "      <th></th>\n",
       "      <th>aeff</th>\n",
       "      <th>energy</th>\n",
       "      <th>cos_zenith</th>\n",
       "      <th>opening_angle</th>\n",
       "    </tr>\n",
       "  </thead>\n",
       "  <tbody>\n",
       "    <tr>\n",
       "      <th>count</th>\n",
       "      <td>1.000000e+05</td>\n",
       "      <td>1.000000e+05</td>\n",
       "      <td>100000.000000</td>\n",
       "      <td>100000.000000</td>\n",
       "    </tr>\n",
       "    <tr>\n",
       "      <th>mean</th>\n",
       "      <td>1.586640e+11</td>\n",
       "      <td>2.596905e+06</td>\n",
       "      <td>0.000337</td>\n",
       "      <td>10.181895</td>\n",
       "    </tr>\n",
       "    <tr>\n",
       "      <th>std</th>\n",
       "      <td>2.610982e+12</td>\n",
       "      <td>3.038209e+07</td>\n",
       "      <td>0.576052</td>\n",
       "      <td>31.603920</td>\n",
       "    </tr>\n",
       "    <tr>\n",
       "      <th>min</th>\n",
       "      <td>0.000000e+00</td>\n",
       "      <td>1.000023e+03</td>\n",
       "      <td>-0.999968</td>\n",
       "      <td>0.001981</td>\n",
       "    </tr>\n",
       "    <tr>\n",
       "      <th>25%</th>\n",
       "      <td>0.000000e+00</td>\n",
       "      <td>2.045955e+03</td>\n",
       "      <td>-0.497535</td>\n",
       "      <td>0.399569</td>\n",
       "    </tr>\n",
       "    <tr>\n",
       "      <th>50%</th>\n",
       "      <td>0.000000e+00</td>\n",
       "      <td>5.588903e+03</td>\n",
       "      <td>0.000149</td>\n",
       "      <td>1.101461</td>\n",
       "    </tr>\n",
       "    <tr>\n",
       "      <th>75%</th>\n",
       "      <td>8.407052e+06</td>\n",
       "      <td>3.090006e+04</td>\n",
       "      <td>0.496358</td>\n",
       "      <td>3.849675</td>\n",
       "    </tr>\n",
       "    <tr>\n",
       "      <th>max</th>\n",
       "      <td>1.300192e+14</td>\n",
       "      <td>9.999725e+08</td>\n",
       "      <td>0.999998</td>\n",
       "      <td>180.000000</td>\n",
       "    </tr>\n",
       "  </tbody>\n",
       "</table>\n",
       "</div>"
      ],
      "text/plain": [
       "               aeff        energy     cos_zenith  opening_angle\n",
       "count  1.000000e+05  1.000000e+05  100000.000000  100000.000000\n",
       "mean   1.586640e+11  2.596905e+06       0.000337      10.181895\n",
       "std    2.610982e+12  3.038209e+07       0.576052      31.603920\n",
       "min    0.000000e+00  1.000023e+03      -0.999968       0.001981\n",
       "25%    0.000000e+00  2.045955e+03      -0.497535       0.399569\n",
       "50%    0.000000e+00  5.588903e+03       0.000149       1.101461\n",
       "75%    8.407052e+06  3.090006e+04       0.496358       3.849675\n",
       "max    1.300192e+14  9.999725e+08       0.999998     180.000000"
      ]
     },
     "execution_count": 30,
     "metadata": {},
     "output_type": "execute_result"
    }
   ],
   "source": [
    "dats.describe()"
   ]
  },
  {
   "cell_type": "markdown",
   "metadata": {},
   "source": [
    "To parameterize the PSF, we first construct a 3-dimensional histogram log10(energy), cos(zenith), and angular error"
   ]
  },
  {
   "cell_type": "code",
   "execution_count": 31,
   "metadata": {},
   "outputs": [],
   "source": [
    "bins = [\n",
    "    np.linspace(3, 8, 21),\n",
    "    np.linspace(-1, 1, 41),\n",
    "    np.linspace(0, 90 ** (1.0 / 2), 101) ** 2,\n",
    "]\n",
    "counts = np.histogramdd(\n",
    "    np.vstack((np.log10(dats[\"energy\"]), dats[\"cos_zenith\"], dats[\"opening_angle\"])).T,\n",
    "    bins=bins,\n",
    ")[0]"
   ]
  },
  {
   "cell_type": "markdown",
   "metadata": {},
   "source": [
    "Plot a few slices of the histogram. We want to find a function that describes these slices.\n",
    "\n",
    "(In this dummy example we have an exact parameterization of the underlying CDF, but in a real application you would not.)"
   ]
  },
  {
   "cell_type": "code",
   "execution_count": 32,
   "metadata": {},
   "outputs": [
    {
     "data": {
      "text/plain": [
       "Text(0.5, 1.0, '$E_{\\\\mu} \\\\in \\\\rm [{17.8 \\\\,} TeV, {31.6 \\\\,} TeV)$')"
      ]
     },
     "execution_count": 32,
     "metadata": {},
     "output_type": "execute_result"
    },
    {
     "data": {
      "image/png": "[encoded data removed]",
      "text/plain": [
       "<Figure size 432x288 with 1 Axes>"
      ]
     },
     "metadata": {
      "needs_background": "light"
     },
     "output_type": "display_data"
    }
   ],
   "source": [
    "ei = 5\n",
    "for ci in (0, 10, 15, 30, 39):\n",
    "    y = counts[ei, ci, :].cumsum()\n",
    "    plt.plot(\n",
    "        *plotting.stepped_path(bins[2], y / y[-1]),\n",
    "        label=\"({:.2f}, {:.2f}]\".format(*bins[1][ci : ci + 2])\n",
    "    )\n",
    "plt.xlim(0, 4)\n",
    "plt.xlabel(r\"Angular error $\\Psi_{\\max}$ (degree)\")\n",
    "plt.ylabel(r\"$P(\\Psi < \\Psi_{\\max})$\")\n",
    "plt.legend(title=r\"$\\cos(\\theta_{\\rm zenith})$\")\n",
    "plt.title(\n",
    "    r\"$E_{{\\mu}} \\in \\rm [{}, {})$\".format(\n",
    "        *([plotting.format_energy(r\"{%.1f \\,}\", e) for e in 10 ** bins[0][ei : ei + 2]])\n",
    "    )\n",
    ")"
   ]
  },
  {
   "cell_type": "markdown",
   "metadata": {},
   "source": [
    "The following is in principle quite simple, but requires an unfortunate amount of boilerplate to set up. What we do here is define, and then optimize, a likelihood that scores the number of events in each angular error bin against the prediction from a King/Moffet distribution. The parameters of that distribution are each functions of the muon energy and zenith angle, parameterized with a spline surface. The final likelihood is the sum of the Poisson term and a second-order difference penalty on the spline coefficients. To improve the accuracy and speed of the fit, we use `autograd` to generate a function that calculates the derivative of the total likelihood w.r.t. the spline coefficients. "
   ]
  },
  {
   "cell_type": "code",
   "execution_count": 33,
   "metadata": {},
   "outputs": [],
   "source": [
    "def slicemultiply(A, B, p):\n",
    "    sa = A.shape\n",
    "    sb = B.shape\n",
    "\n",
    "    newaxes = list(range(p, B.ndim)) + list(range(0, p))\n",
    "\n",
    "    B = B.transpose(newaxes)\n",
    "    # use of autograd numpy wrappers to propagate gradients through this operation\n",
    "    nonp = n.prod([B.shape[i] for i in range(1, B.ndim)])\n",
    "    B = n.reshape(B, (B.shape[0], nonp))\n",
    "\n",
    "    C = n.dot(A.transpose(), B)\n",
    "    C = n.reshape(C, [A.shape[1]] + [sb[i] for i in newaxes[1:]])\n",
    "\n",
    "    # Now invert the permutation we did to B on C\n",
    "    invaxes = newaxes[:]\n",
    "    for i in range(0, len(newaxes)):\n",
    "        invaxes[newaxes[i]] = i\n",
    "    C = C.transpose(invaxes)\n",
    "\n",
    "    return C\n",
    "\n",
    "\n",
    "def splinebasis(coords, knots, order):\n",
    "    bspline = np.vectorize(photospline.bspline, excluded=(0, 3))\n",
    "    nsplines = [len(knots[i]) - order[i] - 1 for i in range(len(knots))]\n",
    "    return [\n",
    "        bspline(\n",
    "            knots[i],\n",
    "            np.asarray(coords[i])[None, :],\n",
    "            np.arange(nsplines[i])[:, None],\n",
    "            order[i],\n",
    "        )\n",
    "        for i in range(len(knots))\n",
    "    ]\n",
    "\n",
    "\n",
    "def grideval(basis, coefficients):\n",
    "    result = coefficients\n",
    "    for i in range(result.ndim):\n",
    "        result = slicemultiply(basis[i], result, i)\n",
    "    return result\n",
    "\n",
    "\n",
    "def make_penalty(penorder, knots, order):\n",
    "    \"\"\"\n",
    "    Construct a weighted sum of N-th order penalty matrix for spline coefficients\n",
    "    \"\"\"\n",
    "\n",
    "    def divdiff(knots, order, m, i):\n",
    "        # Calculate divided difference coefficients\n",
    "        # in order to estimate derivatives.\n",
    "\n",
    "        if m == 0:\n",
    "            return np.asarray([1.0])\n",
    "\n",
    "        num = np.append(0, divdiff(knots, order, m - 1, i + 1)) - np.append(\n",
    "            divdiff(knots, order, m - 1, i), 0\n",
    "        )\n",
    "        dem = (knots[i + order + 1] - knots[i + m]) / (order - (m - 1))\n",
    "        return num / dem\n",
    "\n",
    "    def penalty_matrix(penorder, knots, splineorder):\n",
    "        nspl = len(knots) - splineorder - 1\n",
    "        D = np.zeros((nspl, nspl), dtype=float)\n",
    "        for i in range(0, nspl - penorder):\n",
    "            D[i][i : i + penorder + 1] = divdiff(knots, splineorder, penorder, i)\n",
    "\n",
    "        return D\n",
    "\n",
    "    def calcP(nsplines, knots, dim, order, porders):\n",
    "        nspl = nsplines[dim]\n",
    "        knots = knots[dim]\n",
    "\n",
    "        D = np.zeros((nspl, nspl))\n",
    "        for porder, coeff in porders.items():\n",
    "            if coeff == 0:\n",
    "                continue\n",
    "            D1 = penalty_matrix(porder, knots, order)\n",
    "            D += np.sqrt(coeff) * D1\n",
    "\n",
    "        def prodterm(i):\n",
    "            if i == dim:\n",
    "                return D\n",
    "            else:\n",
    "                return np.eye(nsplines[i], dtype=float)\n",
    "\n",
    "        a = prodterm(0)\n",
    "        i = 1\n",
    "        while i < len(nsplines):\n",
    "            b = prodterm(i)\n",
    "            a = np.kron(a, b)\n",
    "            i = i + 1\n",
    "        return a\n",
    "\n",
    "    ndim = len(knots)\n",
    "    nsplines = [len(knots[i]) - order[i] - 1 for i in range(ndim)]\n",
    "    penalty = calcP(nsplines, knots, 0, order[0], penorder[0])\n",
    "    for i in range(1, ndim):\n",
    "        penalty = penalty + calcP(nsplines, knots, i, order[i], penorder[i])\n",
    "    return np.asarray(penalty)\n",
    "\n",
    "\n",
    "def king_cdf(x, sigma, gamma):\n",
    "    \"\"\"\n",
    "    Cumulative version of the King function, used to parameterize the PSF in XMM and Fermi\n",
    "\n",
    "    See: http://fermi.gsfc.nasa.gov/ssc/data/analysis/documentation/Cicerone/Cicerone_LAT_IRFs/IRF_PSF.html\n",
    "    \"\"\"\n",
    "    s2 = sigma**2\n",
    "    x2 = x**2\n",
    "    return (\n",
    "        (1.0 - 1.0 / gamma)\n",
    "        / (2 * (gamma - 1.0) * s2)\n",
    "        * (\n",
    "            2 * gamma * s2\n",
    "            - (2 * gamma * s2 + x2) * (x2 / (2 * gamma * s2) + 1) ** -gamma\n",
    "        )\n",
    "    )\n",
    "\n",
    "\n",
    "def fit_psf(bins, counts, nknots=(7, 10), smooth=1e1):\n",
    "    \"\"\"\n",
    "    Find splines that describe a tabulated point spread function\n",
    "    \"\"\"\n",
    "\n",
    "    def pad_knots(knots, order=2):\n",
    "        \"\"\"\n",
    "        Pad knots out for full support at the boundaries\n",
    "        \"\"\"\n",
    "        pre = knots[0] - (knots[1] - knots[0]) * np.arange(order, 0, -1)\n",
    "        post = knots[-1] + (knots[-1] - knots[-2]) * np.arange(1, order + 1)\n",
    "        return np.concatenate((pre, knots, post))\n",
    "\n",
    "    order = [2, 2]\n",
    "    knots = [\n",
    "        pad_knots(np.linspace(bins[i][0], bins[i][-1], nknots[i]), order[i])\n",
    "        for i in range(2)\n",
    "    ]\n",
    "    centers = [(e[1:] + e[:-1]) / 2 for e in bins]\n",
    "    basis = splinebasis(centers, knots, order)\n",
    "\n",
    "    def cdf(x, sigma, gamma):\n",
    "        s2 = sigma**2\n",
    "        x2 = x**2\n",
    "        return (\n",
    "            (1.0 - 1.0 / gamma)\n",
    "            / (2 * (gamma - 1.0) * s2)\n",
    "            * (\n",
    "                2 * gamma * s2\n",
    "                - (2 * gamma * s2 + x2) * (x2 / (2 * gamma * s2) + 1) ** -gamma\n",
    "            )\n",
    "        )\n",
    "\n",
    "    def model(args, edges, N):\n",
    "        sigma, gamma = args\n",
    "\n",
    "        sigma = 10.0 ** sigma[..., None]\n",
    "        gamma = (10.0 ** gamma[..., None]) + 1.0\n",
    "        return N[..., None] * (\n",
    "            king_cdf(edges[1:][None, None, ...], sigma, gamma)\n",
    "            - king_cdf(edges[:-1][None, None, ...], sigma, gamma)\n",
    "        )\n",
    "\n",
    "    penalties = [\n",
    "        make_penalty(p, knots, order)\n",
    "        for p in [\n",
    "            (\n",
    "                {2: 10 * smooth},\n",
    "                {2: smooth / 50},\n",
    "            ),\n",
    "            (\n",
    "                {2: smooth},\n",
    "                {2: smooth},\n",
    "            ),\n",
    "        ]\n",
    "    ]\n",
    "\n",
    "    def penalty_term(coefficients):\n",
    "        return n.sum(\n",
    "            (\n",
    "                (n.dot(p, c.flatten()) ** 2).sum()\n",
    "                for p, c in zip(penalties, coefficients)\n",
    "            )\n",
    "        )\n",
    "\n",
    "    # total number of events in each energy/zenith bin\n",
    "    N = counts.sum(axis=2)\n",
    "\n",
    "    def llh(coefficients):\n",
    "        args = [grideval(basis, c) for c in coefficients]\n",
    "        # add a tiny term to prevent the expectation from being identically zero\n",
    "        lam = model(args, bins[2], N) + np.finfo(float).tiny\n",
    "        ts = -2 * (counts * n.log(lam) - lam)  # - gammaln(x+1))\n",
    "        return n.sum(ts) + penalty_term(coefficients)\n",
    "\n",
    "    coefficients = [np.zeros([b.shape[0] for b in basis])] * 2\n",
    "\n",
    "    flat_llh, unflatten, coefficients = flatten_func(llh, coefficients)\n",
    "\n",
    "    def callback(xk):\n",
    "        if callback.i % 100 == 0:\n",
    "            print(callback.i, flat_llh(xk))\n",
    "        callback.i += 1\n",
    "\n",
    "    callback.i = 0\n",
    "    args, fval, res = optimize.fmin_l_bfgs_b(\n",
    "        flat_llh,\n",
    "        coefficients,\n",
    "        autograd.elementwise_grad(flat_llh),\n",
    "        factr=1e7,\n",
    "        callback=callback,\n",
    "    )\n",
    "\n",
    "    coefficients = unflatten(args)\n",
    "    return [{\"coefficients\": c, \"order\": order, \"knots\": knots} for c in coefficients]"
   ]
  },
  {
   "cell_type": "code",
   "execution_count": 34,
   "metadata": {},
   "outputs": [
    {
     "name": "stdout",
     "output_type": "stream",
     "text": [
      "0 [-97821.4801813]\n",
      "100 [-171556.58328883]\n"
     ]
    }
   ],
   "source": [
    "splines = fit_psf(bins, counts, smooth=1)"
   ]
  },
  {
   "cell_type": "markdown",
   "metadata": {},
   "source": [
    "Plot the fit parameters to check for undue wiggliness. $\\sigma$ describes the overall scale of the PSF (similar to the polar Gaussian case; smaller is better), while $\\gamma$ controls the slope of the tail to large angles (larger is better).\n",
    "\n",
    "Also plot the true parameters as dotted lines for reference."
   ]
  },
  {
   "cell_type": "code",
   "execution_count": 35,
   "metadata": {},
   "outputs": [
    {
     "data": {
      "text/plain": [
       "<matplotlib.legend.Legend at 0x15ae8bd30>"
      ]
     },
     "execution_count": 35,
     "metadata": {},
     "output_type": "execute_result"
    },
    {
     "data": {
      "image/png": "[encoded data removed]",
      "text/plain": [
       "<Figure size 432x288 with 2 Axes>"
      ]
     },
     "metadata": {
      "needs_background": "light"
     },
     "output_type": "display_data"
    }
   ],
   "source": [
    "x = np.linspace(-1, 1, 101)\n",
    "fig, axes = plt.subplots(2, 1, sharex=True)\n",
    "for loge in 3, 4, 5, 6:\n",
    "    sigma, gamma = dataset.king_params(10**loge, x)\n",
    "    for i in range(2):\n",
    "        spl = splines[i]\n",
    "        basis = splinebasis([[loge], x], spl[\"knots\"], spl[\"order\"])\n",
    "        line = axes.flat[i].plot(\n",
    "            x,\n",
    "            grideval(basis, spl[\"coefficients\"]).T,\n",
    "            label=\"$10^{{{:.0f}}}$\".format(loge),\n",
    "        )[0]\n",
    "        if i == 0:\n",
    "            axes.flat[i].plot(x, np.log10(sigma), color=line.get_color(), ls=\":\")\n",
    "        if i == 1:\n",
    "            axes.flat[i].plot(x, np.log10(gamma - 1), color=line.get_color(), ls=\":\")\n",
    "\n",
    "\n",
    "axes.flat[1].set_xlabel(r\"$\\cos\\theta_{\\rm zenith}$\")\n",
    "axes.flat[1].set_ylabel(r\"$\\log_{10}(\\gamma-1)$\")\n",
    "axes.flat[0].set_ylabel(r\"$\\log_{10}\\sigma$\")\n",
    "axes.flat[0].legend(title=r\"$E_{\\mu}$ (GeV)\", ncol=2)"
   ]
  },
  {
   "cell_type": "markdown",
   "metadata": {},
   "source": [
    "Evaluate the parameterized CDF at each slice"
   ]
  },
  {
   "cell_type": "code",
   "execution_count": 36,
   "metadata": {},
   "outputs": [],
   "source": [
    "centers = [(e[1:] + e[:-1]) / 2 for e in bins[:-1]]\n",
    "sigma, gamma_m1 = [\n",
    "    grideval(splinebasis(centers, spl[\"knots\"], spl[\"order\"]), spl[\"coefficients\"])\n",
    "    for spl in splines\n",
    "]\n",
    "psi = np.linspace(0, 10, 101)\n",
    "psf_vals = king_cdf(\n",
    "    psi[None, ...], 10 ** sigma[..., None], 10 ** (gamma_m1[..., None]) + 1\n",
    ")"
   ]
  },
  {
   "cell_type": "markdown",
   "metadata": {},
   "source": [
    "Compare the evaluated CDF compared to the source histogram."
   ]
  },
  {
   "cell_type": "code",
   "execution_count": 37,
   "metadata": {},
   "outputs": [
    {
     "data": {
      "text/plain": [
       "Text(0.5, 1.0, '$E_{\\\\mu} \\\\in \\\\rm [{17.8 \\\\,} TeV, {31.6 \\\\,} TeV)$')"
      ]
     },
     "execution_count": 37,
     "metadata": {},
     "output_type": "execute_result"
    },
    {
     "data": {
      "image/png": "[encoded data removed]",
      "text/plain": [
       "<Figure size 432x288 with 1 Axes>"
      ]
     },
     "metadata": {
      "needs_background": "light"
     },
     "output_type": "display_data"
    }
   ],
   "source": [
    "ei = 5\n",
    "for ci in (0, 10, 20, 30, 39):\n",
    "    y = counts[ei, ci, :].cumsum()\n",
    "    line = plt.plot(\n",
    "        *plotting.stepped_path(bins[2], y / y[-1]),\n",
    "        label=\"({:.2f}, {:.2f}]\".format(*bins[1][ci : ci + 2])\n",
    "    )[0]\n",
    "    plt.plot(psi, psf_vals[ei, ci], color=line.get_color())\n",
    "    # plot \"true\" PSF for comparison\n",
    "    sigma, gamma = dataset.king_params(10**ei, (bins[1][ci] + bins[1][ci + 1]) / 2)\n",
    "    plt.plot(\n",
    "        psi,\n",
    "        angular_resolution.king(sigma=sigma, gamma=gamma).cdf(psi),\n",
    "        color=line.get_color(),\n",
    "        ls=\":\",\n",
    "    )\n",
    "plt.xlim(0, 4)\n",
    "plt.xlabel(r\"Angular error $\\Psi_{\\max}$ (degree)\")\n",
    "plt.ylabel(r\"$P(\\Psi < \\Psi_{\\max})$\")\n",
    "plt.legend(title=r\"$\\cos(\\theta_{\\rm zenith})$\")\n",
    "plt.title(\n",
    "    r\"$E_{{\\mu}} \\in \\rm [{}, {})$\".format(\n",
    "        *([plotting.format_energy(r\"{%.1f \\,}\", e) for e in 10 ** bins[0][ei : ei + 2]])\n",
    "    )\n",
    ")"
   ]
  },
  {
   "cell_type": "markdown",
   "metadata": {},
   "source": [
    "Now, write the results of the fit to a file, and verify that the functor used in toise returns the same as the one we used for fitting (modulo floating point precision)"
   ]
  },
  {
   "cell_type": "code",
   "execution_count": 38,
   "metadata": {},
   "outputs": [],
   "source": [
    "def to_splinetable(spline_spec):\n",
    "    # construct an empty SplineTable, the bad way\n",
    "    data, weights = photospline.ndsparse.from_data(np.eye(2), weights=np.eye(2))\n",
    "    template = photospline.glam_fit(\n",
    "        data,\n",
    "        weights,\n",
    "        [[0, 1], [0, 1]],\n",
    "        spline_spec[\"knots\"],\n",
    "        spline_spec[\"order\"],\n",
    "        [1e6] * 2,\n",
    "        [0] * 2,\n",
    "    )\n",
    "    # now, abuse the array protocol to get a writable view into the coefficient array\n",
    "    class transplant(object):\n",
    "        def __init__(self, donor):\n",
    "            self.__array_interface__ = dict(donor.__array_interface__)\n",
    "            self.__array_interface__[\"data\"] = (\n",
    "                self.__array_interface__[\"data\"][0],\n",
    "                False,\n",
    "            )\n",
    "\n",
    "    np.array(transplant(template.coefficients), copy=False)[:] = spline_spec[\n",
    "        \"coefficients\"\n",
    "    ]\n",
    "    return template"
   ]
  },
  {
   "cell_type": "code",
   "execution_count": 39,
   "metadata": {},
   "outputs": [
    {
     "name": "stdout",
     "output_type": "stream",
     "text": [
      "Calculating spline basis...\n",
      "Reticulating splines...\n",
      "\tConvolving bases...\n",
      "\t\tConvolving dimension 0\n",
      "\t\tConvolving dimension 1\n",
      "\tFlattening residuals matrix...\n",
      "Transforming fit array...\n",
      "Computing least square solution...\n",
      "Analyze[88]: 0.000029 s\n",
      "Factorize[88]: 0.000009 s\n",
      "Solve[88]: 0.000006 s\n",
      "Done: cleaning up\n",
      "Calculating spline basis...\n",
      "Reticulating splines...\n",
      "\tConvolving bases...\n",
      "\t\tConvolving dimension 0\n",
      "\t\tConvolving dimension 1\n",
      "\tFlattening residuals matrix...\n",
      "Transforming fit array...\n",
      "Computing least square solution...\n",
      "Analyze[88]: 0.000017 s\n",
      "Factorize[88]: 0.000007 s\n",
      "Solve[88]: 0.000003 s\n",
      "Done: cleaning up\n"
     ]
    }
   ],
   "source": [
    "from toise.angular_resolution import SplineKingPointSpreadFunction\n",
    "\n",
    "for label, spl in zip((\"sigma\", \"gamma\"), splines):\n",
    "    to_splinetable(spl).write(\"kingpsf.{}.fits\".format(label))\n",
    "psf = SplineKingPointSpreadFunction(os.getcwd() + \"/kingpsf\")"
   ]
  },
  {
   "cell_type": "code",
   "execution_count": 40,
   "metadata": {},
   "outputs": [
    {
     "data": {
      "text/plain": [
       "Text(0.5, 1.0, '$E_{\\\\mu} \\\\in \\\\rm [{17.8 \\\\,} TeV, {31.6 \\\\,} TeV)$')"
      ]
     },
     "execution_count": 40,
     "metadata": {},
     "output_type": "execute_result"
    },
    {
     "data": {
      "image/png": "[encoded data removed]",
      "text/plain": [
       "<Figure size 432x288 with 1 Axes>"
      ]
     },
     "metadata": {
      "needs_background": "light"
     },
     "output_type": "display_data"
    }
   ],
   "source": [
    "ax = plt.gca()\n",
    "ei = 5\n",
    "for ci in (0, 10, 20, 30, 39):\n",
    "    y = counts[ei, ci, :].cumsum()\n",
    "    from_fit = psf_vals[ei, ci]\n",
    "    from_function = psf(np.radians(psi), 10 ** centers[0][ei], centers[1][ci])\n",
    "    plt.plot(\n",
    "        psi,\n",
    "        from_fit - from_function,\n",
    "        label=\"({:.2f}, {:.2f}]\".format(*bins[1][ci : ci + 2]),\n",
    "    )\n",
    "ax.set_xlim(0, 4)\n",
    "ax.set_xlabel(r\"Angular error $\\Psi_{\\max}$ (degree)\")\n",
    "ax.set_ylabel(r\"difference (fit-functor)\")\n",
    "ax.legend(title=r\"$\\cos(\\theta_{\\rm zenith})$\")\n",
    "ax.set_title(\n",
    "    r\"$E_{{\\mu}} \\in \\rm [{}, {})$\".format(\n",
    "        *([plotting.format_energy(r\"{%.1f \\,}\", e) for e in 10 ** bins[0][ei : ei + 2]])\n",
    "    )\n",
    ")"
   ]
  },
  {
   "cell_type": "markdown",
   "metadata": {},
   "source": [
    "# Fitting the muon selection efficiency\n",
    "\n",
    "While we're here, we can also fit the muon selection efficiency, which we can use together with the area of the fiducial surface to calculate the muon effective area."
   ]
  },
  {
   "cell_type": "code",
   "execution_count": 41,
   "metadata": {},
   "outputs": [],
   "source": [
    "def get_muon_selection_efficiency(\n",
    "    dataframe,\n",
    "    fiducial_surface,\n",
    "    nfiles=1000,\n",
    "    cos_theta=np.linspace(-1, 1, 21),\n",
    "    energy=np.logspace(2, 11, 46),\n",
    "):\n",
    "    edges = [energy, cos_theta]\n",
    "    sample = np.vstack((dataframe[\"energy\"], dataframe[\"cos_zenith\"])).T\n",
    "    weights = dataframe[\"aeff\"] / nfiles\n",
    "    counts = np.histogramdd(sample, bins=edges)[0]\n",
    "\n",
    "    bincontent, _ = np.histogramdd(sample, weights=weights, bins=edges)\n",
    "    squaredweights, _ = np.histogramdd(sample, weights=weights**2, bins=edges)\n",
    "\n",
    "    # convert GeV m^2 sr to m^2\n",
    "    bin_volume = 2 * np.pi * np.outer(*map(np.diff, edges))\n",
    "    # normalize to geometric area\n",
    "    geometric_area = np.vectorize(fiducial_surface.average_area)(\n",
    "        edges[1][:-1], edges[1][1:]\n",
    "    )[None, :]\n",
    "\n",
    "    binerror = np.sqrt(squaredweights)\n",
    "    for target in bincontent, binerror:\n",
    "        target /= bin_volume\n",
    "        target /= geometric_area\n",
    "\n",
    "    return bincontent, binerror, edges"
   ]
  },
  {
   "cell_type": "code",
   "execution_count": 42,
   "metadata": {},
   "outputs": [],
   "source": [
    "def fit_muon_selection_efficiency(efficiency, error, binedges, smoothing=1):\n",
    "    from toise.util import center\n",
    "\n",
    "    def pad_knots(knots, order=2):\n",
    "        \"\"\"\n",
    "        Pad knots out for full support at the boundaries\n",
    "        \"\"\"\n",
    "        pre = knots[0] - (knots[1] - knots[0]) * np.arange(order, 0, -1)\n",
    "        post = knots[-1] + (knots[-1] - knots[-2]) * np.arange(1, order + 1)\n",
    "        return np.concatenate((pre, knots, post))\n",
    "\n",
    "    z = efficiency\n",
    "    w = 1.0 / error**2\n",
    "\n",
    "    for i in range(z.shape[1]):\n",
    "        # deweight empty declination bands\n",
    "        if not (z[:, i] > 0).any():\n",
    "            w[:, i] = 0\n",
    "            continue\n",
    "        # extrapolate efficiency with a constant\n",
    "        last = np.where(z[:, i] > 0)[0][-1]\n",
    "        zlast = z[last - 10 : last, i]\n",
    "        mask = zlast != 0\n",
    "        w[last:, i] = 1.0 / ((error[last - 10 : last, i][mask] ** 2).mean())\n",
    "        z[last:, i] = zlast[mask].mean()\n",
    "        first = np.where(z[:, i] > 0)[0][0]\n",
    "        w[:first, i] = 1.0 / ((error[first : first + 10, i] ** 2).mean())\n",
    "    w[~np.isfinite(w) | ~np.isfinite(z)] = 0\n",
    "    centers = [center(np.log10(binedges[0])), center(binedges[1])]\n",
    "    knots = [pad_knots(np.log10(binedges[0]), 2), pad_knots(binedges[1], 2)]\n",
    "    order = [2, 2]\n",
    "    z, w = photospline.ndsparse.from_data(z, w)\n",
    "    spline = photospline.glam_fit(\n",
    "        z,\n",
    "        w,\n",
    "        centers,\n",
    "        knots,\n",
    "        order,\n",
    "        smoothing=[5 * smoothing, 10 * smoothing],\n",
    "        penaltyOrder=[2, 2],\n",
    "    )\n",
    "\n",
    "    return spline"
   ]
  },
  {
   "cell_type": "code",
   "execution_count": 43,
   "metadata": {},
   "outputs": [
    {
     "name": "stdout",
     "output_type": "stream",
     "text": [
      "Calculating spline basis...\n",
      "Reticulating splines...\n",
      "\tConvolving bases...\n",
      "\t\tConvolving dimension 0\n",
      "\t\tConvolving dimension 1\n",
      "\tFlattening residuals matrix...\n",
      "Transforming fit array...\n",
      "Computing least square solution...\n",
      "Analyze[1034]: 0.001038 s\n",
      "Factorize[1034]: 0.009114 s\n",
      "Solve[1034]: 0.000798 s\n",
      "Done: cleaning up\n"
     ]
    },
    {
     "data": {
      "text/plain": [
       "Text(0.5, 0, 'Muon energy at fiducial surface (GeV)')"
      ]
     },
     "execution_count": 43,
     "metadata": {},
     "output_type": "execute_result"
    },
    {
     "data": {
      "image/png": "[encoded data removed]",
      "text/plain": [
       "<Figure size 432x288 with 1 Axes>"
      ]
     },
     "metadata": {
      "needs_background": "light"
     },
     "output_type": "display_data"
    }
   ],
   "source": [
    "# fiducial_surface = surfaces.get_fiducial_surface('Sunflower', 240)\n",
    "seleff, seleff_err, edges = get_muon_selection_efficiency(\n",
    "    dats, dataset.surface, nfiles=1\n",
    ")\n",
    "seleff_spline = fit_muon_selection_efficiency(seleff, seleff_err, edges)\n",
    "\n",
    "for ci in 5, 10, 15:\n",
    "\n",
    "    x = np.linspace(2, 11, 101)\n",
    "    y = seleff_spline.grideval([x, [(edges[1][ci] + edges[1][ci + 1]) / 2.0]]).squeeze()\n",
    "    line = plt.plot(10**x, y)[0]\n",
    "\n",
    "    x = 10 ** ((np.log10(edges[0][1:]) + np.log10(edges[0][:-1])) / 2.0)\n",
    "    xerr = edges[0][1:] - x, x - edges[0][:-1]\n",
    "    y = seleff[:, ci]\n",
    "    yerr = seleff_err[:, ci]\n",
    "    line = plt.errorbar(\n",
    "        x,\n",
    "        y,\n",
    "        xerr=xerr,\n",
    "        yerr=yerr,\n",
    "        ls=\"None\",\n",
    "        label=r\"[${:.1f}$,${:.1f}$)\".format(edges[1][ci], edges[1][ci + 1]),\n",
    "        color=line.get_color(),\n",
    "    )\n",
    "\n",
    "plt.semilogx()\n",
    "plt.legend(title=r\"$\\cos\\theta$\", ncol=3)\n",
    "plt.ylabel(\"Selection efficiency\")\n",
    "plt.xlabel(\"Muon energy at fiducial surface (GeV)\")"
   ]
  },
  {
   "cell_type": "code",
   "execution_count": 19,
   "metadata": {},
   "outputs": [],
   "source": [
    "seleff_spline.write(\"muon_selection_efficiency.fits\")"
   ]
  }
 ],
 "metadata": {
  "interpreter": {
   "hash": "58c0895f5e0218fe42ea0d65c34afa611258fa581a151421405042a8d733e1b8"
  },
  "kernelspec": {
   "display_name": "Python 3.9.7 64-bit ('gen2-analysis': conda)",
   "name": "python3"
  },
  "language_info": {
   "codemirror_mode": {
    "name": "ipython",
    "version": 3
   },
   "file_extension": ".py",
   "mimetype": "text/x-python",
   "name": "python",
   "nbconvert_exporter": "python",
   "pygments_lexer": "ipython3",
   "version": "3.9.7"
  }
 },
 "nbformat": 4,
 "nbformat_minor": 4
}
