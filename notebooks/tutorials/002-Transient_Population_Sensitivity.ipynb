{
 "cells": [
  {
   "attachments": {},
   "cell_type": "markdown",
   "metadata": {},
   "source": [
    "In the previous tutorial, you learned how to use install the analysis framework and use it to calculate a differential sensitivity to the diffuse flux of cosmogenic neutrinos. In this tutorial, we will calculate a sensitivity to a population of transient point sources. In contrast to the diffuse tutorial we will be using full angular and time information, reducing background levels signficantly. We will again use the Fictive detector."
   ]
  },
  {
   "cell_type": "code",
   "execution_count": 1,
   "metadata": {
    "execution": {
     "iopub.execute_input": "2021-11-11T17:45:15.231504Z",
     "iopub.status.busy": "2021-11-11T17:45:15.230761Z",
     "iopub.status.idle": "2021-11-11T17:45:16.094685Z",
     "shell.execute_reply": "2021-11-11T17:45:16.094892Z"
    }
   },
   "outputs": [
    {
     "name": "stderr",
     "output_type": "stream",
     "text": [
      "INFO:numexpr.utils:Note: NumExpr detected 16 cores but \"NUMEXPR_MAX_THREADS\" not set, so enforcing safe limit of 8.\n",
      "INFO:numexpr.utils:NumExpr defaulting to 8 threads.\n"
     ]
    }
   ],
   "source": [
    "%matplotlib inline\n",
    "from matplotlib import pyplot as plt\n",
    "from matplotlib import style\n",
    "\n",
    "style.use(\"../../figures/toise.mplstyle\")\n",
    "import warnings\n",
    "from functools import partial\n",
    "\n",
    "import numpy as np\n",
    "\n",
    "from toise import diffuse, factory, grb, multillh, plotting, pointsource, surface_veto\n",
    "\n",
    "warnings.filterwarnings(\"ignore\")  # turn off warnings"
   ]
  },
  {
   "cell_type": "code",
   "execution_count": 2,
   "metadata": {
    "execution": {
     "iopub.execute_input": "2021-11-11T17:45:16.096672Z",
     "iopub.status.busy": "2021-11-11T17:45:16.096359Z",
     "iopub.status.idle": "2021-11-11T17:45:47.622254Z",
     "shell.execute_reply": "2021-11-11T17:45:47.622461Z"
    }
   },
   "outputs": [],
   "source": [
    "aeffs = factory.get(\"Fictive-Optical\")"
   ]
  },
  {
   "attachments": {},
   "cell_type": "markdown",
   "metadata": {},
   "source": [
    "A targeted point source search is modeled as a counting experiment in bins of opening angle around a known source location and energy proxy (MuEx-ish). To see what this looks like, we can construct the expected counts these bins from a steady source with a flux of E^2 Phi = 10^-12 TeV cm^-2 s^-1 located at a declination of 5 degrees:"
   ]
  },
  {
   "cell_type": "code",
   "execution_count": 3,
   "metadata": {
    "execution": {
     "iopub.execute_input": "2021-11-11T17:45:47.636833Z",
     "iopub.status.busy": "2021-11-11T17:45:47.636469Z",
     "iopub.status.idle": "2021-11-11T17:45:48.548133Z",
     "shell.execute_reply": "2021-11-11T17:45:48.548319Z"
    }
   },
   "outputs": [
    {
     "data": {
      "image/png": "[encoded data removed]",
      "text/plain": [
       "<Figure size 432x288 with 2 Axes>"
      ]
     },
     "metadata": {
      "needs_background": "light"
     },
     "output_type": "display_data"
    }
   ],
   "source": [
    "from matplotlib.colors import LogNorm\n",
    "\n",
    "track_aeff = aeffs[\"unshadowed_tracks\"][0]\n",
    "# find the zenith band corresponding to declination 5 degrees\n",
    "zi = (\n",
    "    track_aeff.get_bin_edges(\"true_zenith_band\").searchsorted(-np.sin(np.radians(5)))\n",
    "    - 1\n",
    ")\n",
    "\n",
    "fig = plt.figure(figsize=(6, 4))\n",
    "ax = fig.subplots()\n",
    "im = ax.pcolor(\n",
    "    np.degrees(track_aeff.get_bin_edges(\"reco_psi\")[:-1]),\n",
    "    track_aeff.get_bin_edges(\"reco_energy\"),\n",
    "    pointsource.SteadyPointSource(track_aeff, livetime=1, zenith_bin=zi).expectations(\n",
    "        ps_gamma=-2\n",
    "    ),\n",
    "    norm=LogNorm(vmin=1e-3),\n",
    ")\n",
    "ax.semilogy()\n",
    "ax.set_ylim(1e3, 1e7)\n",
    "ax.set_xlim(0, 1)\n",
    "ax.set_xlabel(\"Opening angle $\\Psi$ (degrees)\")\n",
    "ax.set_ylabel(\"Energy proxy (GeV)\")\n",
    "dec = np.degrees(np.arcsin(-track_aeff.get_bin_edges(\"true_zenith_band\")))\n",
    "ax.set_title(\"${:.1f} \\leq \\delta < {:.1f}$ deg\".format(*dec[zi + 1 : zi - 1 : -1]))\n",
    "cbar = plt.colorbar(im, ax=ax).set_label(\"Signal events per year\")\n",
    "fig.savefig(\"expected_counts.pdf\")"
   ]
  },
  {
   "attachments": {},
   "cell_type": "markdown",
   "metadata": {},
   "source": [
    "Of course there is more than signal to worry about. In the Northern sky the background is dominated by atmospheric neutrinos, while in the Southern sky you quickly run into penetrating muons:"
   ]
  },
  {
   "cell_type": "code",
   "execution_count": 4,
   "metadata": {
    "execution": {
     "iopub.execute_input": "2021-11-11T17:45:48.558598Z",
     "iopub.status.busy": "2021-11-11T17:45:48.558244Z",
     "iopub.status.idle": "2021-11-11T17:45:50.779063Z",
     "shell.execute_reply": "2021-11-11T17:45:50.779435Z"
    }
   },
   "outputs": [
    {
     "data": {
      "image/png": "[encoded data removed]",
      "text/plain": [
       "<Figure size 432x216 with 2 Axes>"
      ]
     },
     "metadata": {
      "needs_background": "light"
     },
     "output_type": "display_data"
    }
   ],
   "source": [
    "muon_aeff = aeffs[\"unshadowed_tracks\"][1]\n",
    "\n",
    "import matplotlib.gridspec as gridspec\n",
    "\n",
    "fig = plt.figure()\n",
    "gs0 = gridspec.GridSpec(1, 2, figure=fig)\n",
    "axes = [fig.add_subplot(gs0[0]), fig.add_subplot(gs0[1])]\n",
    "for i, dec in enumerate([5.0, -25.0]):\n",
    "    zi = (\n",
    "        track_aeff.get_bin_edges(\"true_zenith_band\").searchsorted(\n",
    "            -np.sin(np.radians(dec))\n",
    "        )\n",
    "        - 1\n",
    "    )\n",
    "    dec = np.degrees(np.arcsin(-track_aeff.get_bin_edges(\"true_zenith_band\")))\n",
    "    axes[i].set_title(\n",
    "        \"${:.1f} \\leq \\delta < {:.1f}$ deg\".format(*dec[zi + 1 : zi - 1 : -1])\n",
    "    )\n",
    "    exes = [\n",
    "        (\n",
    "            r\"Astro $\\nu$ (signal)\",\n",
    "            pointsource.SteadyPointSource(track_aeff, livetime=1, zenith_bin=zi)\n",
    "            .expectations(ps_gamma=-2)\n",
    "            .sum(axis=0),\n",
    "        ),\n",
    "        (\n",
    "            r\"Atm $\\nu$ (background)\",\n",
    "            diffuse.AtmosphericNu.conventional(track_aeff, livetime=1)\n",
    "            .point_source_background(zenith_index=zi)\n",
    "            .expectations.sum(axis=0),\n",
    "        ),\n",
    "        (\n",
    "            r\"Atm $\\mu$ (background)\",\n",
    "            surface_veto.MuonBundleBackground(muon_aeff, livetime=1)\n",
    "            .point_source_background(\n",
    "                zenith_index=zi, psi_bins=track_aeff.get_bin_edges(\"reco_psi\")[:-1]\n",
    "            )\n",
    "            .expectations.sum(axis=0),\n",
    "        ),\n",
    "    ]\n",
    "    for label, ex in exes:\n",
    "        axes[i].plot(\n",
    "            *plotting.stepped_path(\n",
    "                np.degrees(track_aeff.get_bin_edges(\"reco_psi\")[:-1]), ex\n",
    "            ),\n",
    "            label=label\n",
    "        )\n",
    "    axes[i].semilogy(nonpositive=\"clip\")\n",
    "    axes[i].set_xlabel(\"Opening angle $\\Psi$ (degrees)\")\n",
    "axes[0].set_ylabel(\"Number of Events\")\n",
    "axes[1].legend()\n",
    "plt.tight_layout()\n",
    "fig.savefig(\"S_v_B_bands.pdf\")"
   ]
  },
  {
   "attachments": {},
   "cell_type": "markdown",
   "metadata": {},
   "source": [
    "A stacking search is a weighted sum of these over all zenith bands, e.g. 10 sources from 0 to 5 degrees declination, 5 from 5 to 15, etc. The background expectations are scaled by the same factor, and all expectations multiplied by the assumed livetime. A stacked transient search is similar, though we work directly with fluences instead of integrating fluxes over an assumed livetime. To model the varying observation time, we can either assume that we observe for, say, exactly T_90 for every source, and integrate the backgrounds for that duration, or assume a distribution of integration times, and scale the signal event counts to account for the fraction of the total fluence expected during each observation window. For simplicity in this example we choose the first option.\n",
    "\n",
    "First, we define a factory function to create predictions for each of our effective areas:"
   ]
  },
  {
   "cell_type": "code",
   "execution_count": 5,
   "metadata": {
    "execution": {
     "iopub.execute_input": "2021-11-11T17:45:50.784742Z",
     "iopub.status.busy": "2021-11-11T17:45:50.784398Z",
     "iopub.status.idle": "2021-11-11T17:45:58.376857Z",
     "shell.execute_reply": "2021-11-11T17:45:58.377142Z"
    }
   },
   "outputs": [],
   "source": [
    "def make_components(aeffs, z=2, t90=45.1, Eiso=53.5, nsources=300):\n",
    "    aeff, muon_aeff = aeffs\n",
    "    atmo = diffuse.AtmosphericNu.conventional(\n",
    "        aeff, 1.0\n",
    "    )\n",
    "    atmo.uncertainty = 0.1\n",
    "    prompt = diffuse.AtmosphericNu.prompt(\n",
    "        aeff, 1.0\n",
    "    )\n",
    "    prompt.min = 0.5\n",
    "    prompt.max = 3\n",
    "    astro = diffuse.DiffuseAstro(aeff, 1.0)\n",
    "    astro.seed = 2\n",
    "    zi = slice(None)  # use all zenith bands\n",
    "    livetime = t90 * nsources  # single burst duration\n",
    "    atmo_bkg = atmo.point_source_background(zenith_index=zi, livetime=livetime)\n",
    "    prompt_bkg = prompt.point_source_background(zenith_index=zi, livetime=livetime)\n",
    "    astro_bkg = astro.point_source_background(zenith_index=zi, livetime=livetime)\n",
    "\n",
    "    z = z * np.ones(nsources)\n",
    "    # assume all sources have the same luminosity and are at the same redshift\n",
    "    ps = grb.GRBPopulation(\n",
    "        aeff,\n",
    "        z * np.ones(nsources),\n",
    "        Eiso=10 ** (Eiso * np.ones(nsources)),\n",
    "    )\n",
    "\n",
    "    components = dict(atmo=atmo_bkg, prompt=prompt_bkg, astro=astro_bkg, ps=ps)\n",
    "    if muon_aeff is not None:\n",
    "        components[\"muon\"] = surface_veto.MuonBundleBackground(\n",
    "            muon_aeff, 1\n",
    "        ).point_source_background(\n",
    "            zenith_index=zi,\n",
    "            psi_bins=aeff.get_bin_edges(\"reco_psi\")[:-1],\n",
    "            livetime=livetime,\n",
    "        )\n",
    "    return components\n",
    "\n",
    "\n",
    "# Assume a 15-year exposure. Essentially, assume you see copies of the same 300 bursts every year.\n",
    "bundle = factory.component_bundle(\n",
    "    {\"Fictive-Optical\": 15}, partial(make_components, z=2, t90=45.1, Eiso=53.5)\n",
    ")"
   ]
  },
  {
   "attachments": {},
   "cell_type": "markdown",
   "metadata": {},
   "source": [
    "Using this, we fit for the median model discovery factor:"
   ]
  },
  {
   "cell_type": "code",
   "execution_count": 6,
   "metadata": {
    "execution": {
     "iopub.execute_input": "2021-11-11T17:45:58.382374Z",
     "iopub.status.busy": "2021-11-11T17:45:58.381944Z",
     "iopub.status.idle": "2021-11-11T17:46:03.611086Z",
     "shell.execute_reply": "2021-11-11T17:46:03.611288Z"
    }
   },
   "outputs": [
    {
     "name": "stderr",
     "output_type": "stream",
     "text": [
      "INFO:root:baseline: 1.2e+03 actual 8.4 ns: 3.4 nb: 9.3e+05 ts: 25\n"
     ]
    },
    {
     "data": {
      "text/plain": [
       "8.397774634822035"
      ]
     },
     "execution_count": 6,
     "metadata": {},
     "output_type": "execute_result"
    }
   ],
   "source": [
    "components = bundle.get_components()\n",
    "ps = components.pop(\"ps\")\n",
    "components[\"gamma\"] = multillh.NuisanceParam(-2.3, 0.5, min=-2.7, max=-1.7)\n",
    "components[\"ps_gamma\"] = multillh.NuisanceParam(-2, 0.5, min=-2.7, max=-1.7)\n",
    "kwargs = {k: v.seed for k, v in components.items()}\n",
    "mdf, ns, nb = pointsource.discovery_potential(ps, components, **kwargs)\n",
    "mdf"
   ]
  },
  {
   "attachments": {},
   "cell_type": "markdown",
   "metadata": {},
   "source": [
    "This means that in 50% of 15-year exposures of the fictive detector, we would expect to see a 5 sigma excess over isotropic background by collecting events for 45 seconds around the time of the presumed 300 bursts per year. To adapt this to another model, you would need to change the way the total fluence is calculated for each zenith band. This includes:\n",
    "- the overall normalization: in this case it is sort of arbitrary, but it makes sense to tie it to a fixed fraction of the observed diffuse flux\n",
    "- the energy dependence of the differential fluence from each transient\n",
    "- the number of transients per year\n",
    "- the t_90 of each transient\n",
    "\n",
    "Have a look at the implementation of grb.GRBPopulation for an example. Note that fluences passed to the pointsource.PointSource constructor are per particle type rather than per neutrino family, i.e. 1/6 of the all-flavor flux for a 1:1:1 flavor ratio rather than 1/3 as in sometimes used in other conventions."
   ]
  },
  {
   "attachments": {},
   "cell_type": "markdown",
   "metadata": {},
   "source": [
    "## Figures_of_merit approach and time independent PS searches\n",
    "\n",
    "In addition to the workflow shown above, the toise package also provides the \"figures_of_merit\" interface, allowing easy characterization for common quantities of interest, like the discovery potential for time-integrated point source searches."
   ]
  },
  {
   "cell_type": "code",
   "execution_count": 7,
   "metadata": {},
   "outputs": [
    {
     "name": "stdout",
     "output_type": "stream",
     "text": [
      "zenith band #0 of 20\n"
     ]
    },
    {
     "name": "stderr",
     "output_type": "stream",
     "text": [
      "INFO:root:ns: 3.3 nb: 18\n",
      "INFO:root:ns: 1.8 nb: 1.7\n"
     ]
    },
    {
     "name": "stdout",
     "output_type": "stream",
     "text": [
      "zenith band #1 of 20\n"
     ]
    },
    {
     "name": "stderr",
     "output_type": "stream",
     "text": [
      "INFO:root:ns: 3.2 nb: 28\n",
      "INFO:root:ns: 1.9 nb: 2.2\n"
     ]
    },
    {
     "name": "stdout",
     "output_type": "stream",
     "text": [
      "zenith band #2 of 20\n"
     ]
    },
    {
     "name": "stderr",
     "output_type": "stream",
     "text": [
      "INFO:root:ns: 2.9 nb: 37\n",
      "INFO:root:ns: 2 nb: 3\n"
     ]
    },
    {
     "name": "stdout",
     "output_type": "stream",
     "text": [
      "zenith band #3 of 20\n"
     ]
    },
    {
     "name": "stderr",
     "output_type": "stream",
     "text": [
      "INFO:root:ns: 2.8 nb: 44\n",
      "INFO:root:ns: 2.1 nb: 4.1\n"
     ]
    },
    {
     "name": "stdout",
     "output_type": "stream",
     "text": [
      "zenith band #4 of 20\n"
     ]
    },
    {
     "name": "stderr",
     "output_type": "stream",
     "text": [
      "INFO:root:ns: 2.8 nb: 52\n",
      "INFO:root:ns: 2.3 nb: 5.4\n"
     ]
    },
    {
     "name": "stdout",
     "output_type": "stream",
     "text": [
      "zenith band #5 of 20\n"
     ]
    },
    {
     "name": "stderr",
     "output_type": "stream",
     "text": [
      "INFO:root:ns: 2.9 nb: 63\n",
      "INFO:root:ns: 2.4 nb: 7.7\n"
     ]
    },
    {
     "name": "stdout",
     "output_type": "stream",
     "text": [
      "zenith band #6 of 20\n"
     ]
    },
    {
     "name": "stderr",
     "output_type": "stream",
     "text": [
      "INFO:root:ns: 2.9 nb: 77\n",
      "INFO:root:ns: 2.5 nb: 11\n"
     ]
    },
    {
     "name": "stdout",
     "output_type": "stream",
     "text": [
      "zenith band #7 of 20\n"
     ]
    },
    {
     "name": "stderr",
     "output_type": "stream",
     "text": [
      "INFO:root:ns: 3.1 nb: 95\n",
      "INFO:root:ns: 2.6 nb: 17\n"
     ]
    },
    {
     "name": "stdout",
     "output_type": "stream",
     "text": [
      "zenith band #8 of 20\n"
     ]
    },
    {
     "name": "stderr",
     "output_type": "stream",
     "text": [
      "INFO:root:ns: 3.4 nb: 1.2e+02\n",
      "INFO:root:ns: 2.9 nb: 27\n"
     ]
    },
    {
     "name": "stdout",
     "output_type": "stream",
     "text": [
      "zenith band #9 of 20\n"
     ]
    },
    {
     "name": "stderr",
     "output_type": "stream",
     "text": [
      "INFO:root:ns: 3.4 nb: 1.7e+02\n",
      "INFO:root:ns: 3 nb: 42\n"
     ]
    },
    {
     "name": "stdout",
     "output_type": "stream",
     "text": [
      "zenith band #10 of 20\n"
     ]
    },
    {
     "name": "stderr",
     "output_type": "stream",
     "text": [
      "INFO:root:ns: 3.3 nb: 1.7e+02\n",
      "INFO:root:ns: 2.9 nb: 42\n"
     ]
    },
    {
     "name": "stdout",
     "output_type": "stream",
     "text": [
      "zenith band #11 of 20\n"
     ]
    },
    {
     "name": "stderr",
     "output_type": "stream",
     "text": [
      "INFO:root:ns: 10 nb: 2.1e+07\n",
      "INFO:root:ns: 9.3 nb: 2.1e+07\n"
     ]
    },
    {
     "name": "stdout",
     "output_type": "stream",
     "text": [
      "zenith band #12 of 20\n"
     ]
    },
    {
     "name": "stderr",
     "output_type": "stream",
     "text": [
      "INFO:root:ns: 15 nb: 2.3e+08\n",
      "INFO:root:ns: 18 nb: 2.3e+08\n"
     ]
    },
    {
     "name": "stdout",
     "output_type": "stream",
     "text": [
      "zenith band #13 of 20\n"
     ]
    },
    {
     "name": "stderr",
     "output_type": "stream",
     "text": [
      "INFO:root:ns: 17 nb: 3.7e+08\n",
      "INFO:root:ns: 22 nb: 3.7e+08\n"
     ]
    },
    {
     "name": "stdout",
     "output_type": "stream",
     "text": [
      "zenith band #14 of 20\n"
     ]
    },
    {
     "name": "stderr",
     "output_type": "stream",
     "text": [
      "INFO:root:ns: 15 nb: 3.7e+08\n",
      "INFO:root:ns: 23 nb: 3.7e+08\n"
     ]
    },
    {
     "name": "stdout",
     "output_type": "stream",
     "text": [
      "zenith band #15 of 20\n"
     ]
    },
    {
     "name": "stderr",
     "output_type": "stream",
     "text": [
      "INFO:root:ns: 14 nb: 3.3e+08\n",
      "INFO:root:ns: 22 nb: 3.3e+08\n"
     ]
    },
    {
     "name": "stdout",
     "output_type": "stream",
     "text": [
      "zenith band #16 of 20\n"
     ]
    },
    {
     "name": "stderr",
     "output_type": "stream",
     "text": [
      "INFO:root:ns: 12 nb: 2.8e+08\n",
      "INFO:root:ns: 21 nb: 2.8e+08\n"
     ]
    },
    {
     "name": "stdout",
     "output_type": "stream",
     "text": [
      "zenith band #17 of 20\n"
     ]
    },
    {
     "name": "stderr",
     "output_type": "stream",
     "text": [
      "INFO:root:ns: 9.6 nb: 2.3e+08\n",
      "INFO:root:ns: 15 nb: 2.3e+08\n"
     ]
    },
    {
     "name": "stdout",
     "output_type": "stream",
     "text": [
      "zenith band #18 of 20\n"
     ]
    },
    {
     "name": "stderr",
     "output_type": "stream",
     "text": [
      "INFO:root:ns: 7.2 nb: 1.9e+08\n",
      "INFO:root:ns: 6.9 nb: 1.9e+08\n"
     ]
    },
    {
     "name": "stdout",
     "output_type": "stream",
     "text": [
      "zenith band #19 of 20\n"
     ]
    },
    {
     "name": "stderr",
     "output_type": "stream",
     "text": [
      "INFO:root:ns: 6.1 nb: 1.5e+08\n",
      "INFO:root:ns: 4 nb: 1.5e+08\n"
     ]
    }
   ],
   "source": [
    "from toise import figures_of_merit\n",
    "\n",
    "bins = len(factory.default_cos_theta_bins)\n",
    "outdat1 = np.zeros((bins, 3))\n",
    "outdat2 = np.zeros((bins, 3))\n",
    "\n",
    "for i, zi in enumerate(factory.default_cos_theta_bins[:-1]):\n",
    "    #     print(zi)\n",
    "    print(f\"zenith band #{i} of {bins-1}\")\n",
    "\n",
    "    # set up separate discovery potential calculations for Fictive-Optical\n",
    "    discpot = figures_of_merit.PointSource(\n",
    "        {\"Fictive-Optical\": 15}, i\n",
    "    )  # run a separate FOM class for each detector, adding multiple to the same bundle combines likelihoods\n",
    "    outdat1[i] = discpot.benchmark(figures_of_merit.TOT.ul)\n",
    "    # set up separate discovery potential calculations for Fictive-Optical-TracksOnly\n",
    "\n",
    "    discpot = figures_of_merit.PointSource({\"Fictive-Optical-TracksOnly\": 15}, i)\n",
    "    outdat2[i] = discpot.benchmark(figures_of_merit.TOT.ul)"
   ]
  },
  {
   "attachments": {},
   "cell_type": "markdown",
   "metadata": {},
   "source": [
    "After calculating the figures of merit and saving the out, we plot them below:"
   ]
  },
  {
   "cell_type": "code",
   "execution_count": 8,
   "metadata": {
    "scrolled": true
   },
   "outputs": [
    {
     "data": {
      "image/png": "[encoded data removed]",
      "text/plain": [
       "<Figure size 432x288 with 1 Axes>"
      ]
     },
     "metadata": {
      "needs_background": "light"
     },
     "output_type": "display_data"
    }
   ],
   "source": [
    "midpoints = (\n",
    "    factory.default_cos_theta_bins[:-1] + factory.default_cos_theta_bins[1:]\n",
    ") / 2\n",
    "\n",
    "sinDecMidpoints = np.sin(np.arccos(midpoints) - np.pi / 2)\n",
    "\n",
    "fig = plt.figure(figsize=(6, 4))\n",
    "ax = fig.subplots()\n",
    "ax.plot(sinDecMidpoints, outdat1[:-1, 0], label=\" Optical\")\n",
    "ax.plot(sinDecMidpoints, outdat2[:-1, 0], label=\"Optical, Tracks Only\")\n",
    "ax.set_yscale(\"log\")\n",
    "ax.legend(loc=\"upper center\")\n",
    "ax.set_xlabel(r\"sin($\\delta$)\")\n",
    "ax.set_ylabel(r\"Flux ($10^{-12}\\,\\, TeV/\\,cm^2/\\,s}$)\")\n",
    "ax.set_title(r\"Fictive Detector Discovery Potential for $E^{-2}$ Flux\")\n",
    "plt.tight_layout()\n",
    "fig.savefig(\"ps_disco.pdf\")"
   ]
  },
  {
   "cell_type": "code",
   "execution_count": null,
   "metadata": {},
   "outputs": [],
   "source": []
  }
 ],
 "metadata": {
  "interpreter": {
   "hash": "58c0895f5e0218fe42ea0d65c34afa611258fa581a151421405042a8d733e1b8"
  },
  "kernelspec": {
   "display_name": "Python 3 (ipykernel)",
   "language": "python",
   "name": "python3"
  },
  "language_info": {
   "codemirror_mode": {
    "name": "ipython",
    "version": 3
   },
   "file_extension": ".py",
   "mimetype": "text/x-python",
   "name": "python",
   "nbconvert_exporter": "python",
   "pygments_lexer": "ipython3",
   "version": "3.9.9"
  }
 },
 "nbformat": 4,
 "nbformat_minor": 4
}
