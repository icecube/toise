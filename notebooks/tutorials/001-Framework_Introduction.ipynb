{
 "cells": [
  {
   "cell_type": "code",
   "execution_count": 1,
   "metadata": {},
   "outputs": [],
   "source": [
    "%matplotlib inline\n",
    "import matplotlib.pyplot as plt\n",
    "import warnings\n",
    "warnings.filterwarnings(\"ignore\") # turn off warnings"
   ]
  },
  {
   "cell_type": "markdown",
   "metadata": {},
   "source": [
    "## Tutorial\n",
    "\n",
    "### From effective areas to discovery potentials\n",
    "\n",
    "The toise package uses parameterized instrument response functions to construct multi-dimensional neutrino effective areas for neutrino detector designs. These effective areas are used to convert neutrino fluxes for signal and background components into event rates in observable bins, and the event rates in turn to derive median sensitivities and discovery potentials for various kinds of astrophysical neutrino fluxes.\n",
    "\n",
    "### Effective area factory interface\n",
    "\n",
    "The toise package comes with a few pre-made instrument responses. The easiest way to use these is through the `toise.factory` module. This module keeps track of known instrument configurations, and creates effective areas for them on demand. In this tutorial we will only be looking at diffuse fluxes, so we set the default binning in source opening angle to a single bin:"
   ]
  },
  {
   "cell_type": "code",
   "execution_count": 2,
   "metadata": {},
   "outputs": [
    {
     "name": "stderr",
     "output_type": "stream",
     "text": [
      "INFO:numexpr.utils:NumExpr defaulting to 8 threads.\n"
     ]
    }
   ],
   "source": [
    "import numpy\n",
    "from toise import factory\n",
    "factory.set_kwargs(psi_bins={k: [0, numpy.pi] for k in ('tracks', 'cascades', 'radio')})"
   ]
  },
  {
   "cell_type": "markdown",
   "metadata": {},
   "source": [
    "You can of course construct and use arbitrary effective areas. We'll cover that later. Now, you can explicitly call the factory to construct the effective areas for various event classes:"
   ]
  },
  {
   "cell_type": "code",
   "execution_count": 3,
   "metadata": {},
   "outputs": [],
   "source": [
    "aeffs = factory.get('Fictive-Optical')"
   ]
  },
  {
   "cell_type": "markdown",
   "metadata": {},
   "source": [
    "This returns a dictionary whose keys are the event classes. Currently there are:\n",
    "\n",
    "* shadowed_tracks: tracks entering the detector from the outside that pass through the footprint of the surface veto. These have a smaller penetrating muon background than\n",
    "* unshadowed_tracks: all remaining throughgoing tracks.\n",
    "* cascades: neutrino interactions inside the fiducial volume (1/2 string spacing inside the outer strings) where the outgoing lepton is a) not a muon, and b) not a tau with a decay length > 300 m."
   ]
  },
  {
   "cell_type": "code",
   "execution_count": 4,
   "metadata": {},
   "outputs": [
    {
     "data": {
      "text/plain": [
       "dict_keys(['shadowed_tracks', 'unshadowed_tracks', 'starting_tracks', 'cascades', 'double_cascades'])"
      ]
     },
     "execution_count": 4,
     "metadata": {},
     "output_type": "execute_result"
    }
   ],
   "source": [
    "aeffs.keys()"
   ]
  },
  {
   "cell_type": "markdown",
   "metadata": {},
   "source": [
    "Behind each of these keys is a pair of effective areas, one for neutrinos, and one for penetrating atmospheric muons. Cascades are a special case, as we currently assume that the outer-layer veto completely removes penetrating muons. This is represented by an empty effective area:"
   ]
  },
  {
   "cell_type": "code",
   "execution_count": 5,
   "metadata": {},
   "outputs": [
    {
     "name": "stdout",
     "output_type": "stream",
     "text": [
      "shadowed_tracks: (<toise.effective_areas.effective_area object at 0x111445c70>, <toise.effective_areas.effective_area object at 0x111445ee0>)\n",
      "cascades: (<toise.effective_areas.effective_area object at 0x111730100>, None)\n"
     ]
    }
   ],
   "source": [
    "print('shadowed_tracks: {}'.format(aeffs['shadowed_tracks']))\n",
    "print('cascades: {}'.format(aeffs['cascades']))"
   ]
  },
  {
   "cell_type": "code",
   "execution_count": 6,
   "metadata": {},
   "outputs": [
    {
     "name": "stdout",
     "output_type": "stream",
     "text": [
      "area.values.shape: (6, 100, 20, 100, 2)\n",
      "type: 6 bins (1 per type)\n",
      "true_energy: [10.0, ..., 100000000000.0]\n",
      "true_zenith_band: [-1.0, ..., 1.0]\n",
      "reco_energy: [10.0, ..., 100000000000.0]\n",
      "reco_psi: [0.0, ..., inf]\n"
     ]
    }
   ],
   "source": [
    "area = aeffs['unshadowed_tracks'][0]\n",
    "print('area.values.shape: {}'.format(area.values.shape))\n",
    "print('{}: 6 bins (1 per type)'.format(area.dimensions[0]))\n",
    "for label, edges in zip(area.dimensions[1:], area.bin_edges):\n",
    "    print('{}: [{}, ..., {}]'.format(label, edges[0], edges[-1]))\n",
    "\n"
   ]
  },
  {
   "cell_type": "markdown",
   "metadata": {},
   "source": [
    "## Flux components\n",
    "\n",
    "To predict the sensitivity of a given detector configuration (exposure, i.e. effective area and livetime) to a neutrino emission scenario, we have to calculate event rates. This is where flux components come in. There are a number of them available in `toise.diffuse` and `toise.pointsource`. The diffuse versions predict event rates integrated over zenith angle bins, while event rates from point source fluxes are divided into rings centered on the putative source position.\n",
    "\n",
    "As an example, let's construct a conventional atmospheric neutrino background (Honda 2006 + H3a). Like all components, it has an `expectations` attribute that returns a dictionary of event rates, in this case divided into 20 bins of cos(zenith) (as we requested when we constructed the effective area) and 100 bins of reconstructed energy proxy. For convenience we choose a year of livetime. Below is a plot of the event rate per energy proxy bin compared to an isotropic, $E^2\\Phi = 10^{-8} \\, {\\rm GeV \\, cm^{-2} \\, sr^{-1} \\, s^{-1}}$ per flavor flux for horizontal tracks."
   ]
  },
  {
   "cell_type": "code",
   "execution_count": 7,
   "metadata": {},
   "outputs": [
    {
     "data": {
      "image/png": "[encoded data removed]",
      "text/plain": [
       "<Figure size 432x288 with 1 Axes>"
      ]
     },
     "metadata": {
      "needs_background": "light"
     },
     "output_type": "display_data"
    }
   ],
   "source": [
    "from toise import diffuse, plotting\n",
    "\n",
    "conventional = diffuse.AtmosphericNu.conventional(area, livetime=1)\n",
    "astro = diffuse.DiffuseAstro(area, livetime=1)\n",
    "edges = area.bin_edges[area.dimensions.index('reco_energy')-1]\n",
    "\n",
    "fig, ax = plt.subplots()\n",
    "ax.plot(*plotting.stepped_path(edges, conventional.expectations[10,:]),\n",
    "    label='Conventional Atmospheric')\n",
    "ax.plot(*plotting.stepped_path(edges, astro.expectations()[10,:]), \n",
    "    label=r'$E^{-2}$ diffuse')\n",
    "plt.legend()\n",
    "plt.loglog()\n",
    "ax.set_ylim(1e-2, 1e3)\n",
    "ax.set_ylabel('Events per year')\n",
    "ax.set_xlabel('Energy proxy')\n",
    "plt.tight_layout()\n",
    "del fig, ax"
   ]
  },
  {
   "cell_type": "markdown",
   "metadata": {},
   "source": [
    "## Multiple flux components (bundles)\n",
    "\n",
    "A real analysis will use multiple detection channels in different detectors (e.g. N years of detector 1 plus M years of detector 2), each of which is represented by a different effective area. You can create event rate predictions for such a collection of effective areas by writing a factory function like the following:"
   ]
  },
  {
   "cell_type": "code",
   "execution_count": 8,
   "metadata": {},
   "outputs": [],
   "source": [
    "from toise import diffuse, multillh, surface_veto\n",
    "\n",
    "def make_components(aeffs):\n",
    "    aeff, muon_aeff = aeffs\n",
    "    \n",
    "    energy_threshold = numpy.inf\n",
    "    atmo = diffuse.AtmosphericNu.conventional(aeff, 1, hard_veto_threshold=energy_threshold)\n",
    "    atmo.prior = lambda v, **kwargs: -(v-1)**2/(2*0.1**2)\n",
    "    prompt = diffuse.AtmosphericNu.prompt(aeff, 1, hard_veto_threshold=energy_threshold)\n",
    "    prompt.min = 0.5\n",
    "    prompt.max = 3.\n",
    "    astro = diffuse.DiffuseAstro(aeff, 1)\n",
    "    astro.seed = 2.\n",
    "    \n",
    "    if muon_aeff is None:\n",
    "        muon = diffuse.NullComponent(aeff)\n",
    "    else:\n",
    "        muon = surface_veto.MuonBundleBackground(muon_aeff, 1)\n",
    "    \n",
    "    return dict(atmo=atmo, prompt=prompt, astro=astro, muon=muon)\n",
    "\n",
    "    return components "
   ]
  },
  {
   "cell_type": "markdown",
   "metadata": {},
   "source": [
    "`factory.component_bundle()` uses this factory function to construct components that predict event rates in all detectors and detection channels for the given combination of livetimes (here, 15 years of a fictive detector for simplicity)"
   ]
  },
  {
   "cell_type": "code",
   "execution_count": 9,
   "metadata": {},
   "outputs": [
    {
     "data": {
      "text/plain": [
       "{'astro': <toise.multillh.Combination at 0x111c42b20>,\n",
       " 'atmo': <toise.multillh.Combination at 0x111c42760>,\n",
       " 'prompt': <toise.multillh.Combination at 0x111c42700>,\n",
       " 'muon': <toise.multillh.Combination at 0x111c42d60>}"
      ]
     },
     "execution_count": 9,
     "metadata": {},
     "output_type": "execute_result"
    }
   ],
   "source": [
    "bundle = factory.component_bundle({'Fictive-Optical': 15}, make_components)\n",
    "components = bundle.get_components()\n",
    "components"
   ]
  },
  {
   "cell_type": "markdown",
   "metadata": {},
   "source": [
    "## Calculating a sensitivity\n",
    "\n",
    "You can use these to construct a likelihood and predict sensitivities and discovery potentials. As an illustration, let's calculate the sensitivity (median 90% upper limit assuming there is no actual signal) for the normalization of an E^-2 isotropic equal-flavor flux. To do this exactly, you would draw realizations of the data Poisson-distributed around the mean event rate in each bin, fit for the normalization of the E^-2 component, derive an upper limit, and take the median upper limit from the population of realizations. Here we take two shortcuts: 1) we construct a special dataset, called the \"Asimov dataset,\" where the observed event rates are replaced by their exact means, and 2) we assume that the null test statistic (TS) is chi^2 distributed. 1) is okay because the TS derived from the Asimov LLH is the same as the median of TSes from Poisson-sampled realizations, and 2) is okay as long as the event rate in the bins that provide most of the TS is sufficiently large (in practice, >= 10 per bin). To calculate sensitivity, we create pseudodata where there is no contribution at all from the E^-2 component:"
   ]
  },
  {
   "cell_type": "code",
   "execution_count": 10,
   "metadata": {},
   "outputs": [],
   "source": [
    "llh = multillh.asimov_llh(bundle.get_components(), astro=0)"
   ]
  },
  {
   "cell_type": "markdown",
   "metadata": {},
   "source": [
    "Now, let's actually calculate a sensitivity. We do this by calculating the TS between the best fit (astro=0) and a given normalization, and finding the point where this crosses ~2.705 (90% CL for 1 degree of freedom):"
   ]
  },
  {
   "cell_type": "code",
   "execution_count": 11,
   "metadata": {},
   "outputs": [
    {
     "data": {
      "text/plain": [
       "0.007882870910179918"
      ]
     },
     "execution_count": 11,
     "metadata": {},
     "output_type": "execute_result"
    }
   ],
   "source": [
    "from scipy.optimize import bisect\n",
    "from scipy import stats\n",
    "# test statistic between astro = f and astro = 0\n",
    "ts = lambda f: -2*(llh.llh(**llh.fit(astro=f)) - llh.llh(**llh.fit(astro=0)))\n",
    "# fit for \\Delta TS = 2.705 (90% CL for 1 degree of freedom)\n",
    "critical_ts = stats.chi2(1).ppf(0.9)\n",
    "limit = bisect(lambda f: ts(f)-critical_ts, 0, 1)\n",
    "limit"
   ]
  },
  {
   "cell_type": "markdown",
   "metadata": {},
   "source": [
    "In other words, if the signal were not real, 15 years of this fictive detector would constrain the normalization of an E^-2 component to ~1/1000 of the flux level we think we see. We can also plot a profile likelihood for comparison."
   ]
  },
  {
   "cell_type": "code",
   "execution_count": 12,
   "metadata": {},
   "outputs": [
    {
     "data": {
      "text/plain": [
       "Text(0.5, 0, 'Astro flux normalization')"
      ]
     },
     "execution_count": 12,
     "metadata": {},
     "output_type": "execute_result"
    },
    {
     "data": {
      "image/png": "[encoded data removed]",
      "text/plain": [
       "<Figure size 432x288 with 1 Axes>"
      ]
     },
     "metadata": {
      "needs_background": "light"
     },
     "output_type": "display_data"
    }
   ],
   "source": [
    "# also plot a profile likelihood\n",
    "x = numpy.linspace(0., 3e-2, 11)\n",
    "prof = llh.profile1d('astro', x)\n",
    "ts = -2*(prof['LLH'] - numpy.nanmax(prof['LLH']))\n",
    "\n",
    "plt.plot(x, ts)\n",
    "plt.axvline(limit, ls='--', color='grey')\n",
    "plt.axhline(critical_ts, ls='--', color='grey')\n",
    "\n",
    "plt.ylabel('$-2\\Delta \\ln L$')\n",
    "plt.xlabel('Astro flux normalization')"
   ]
  },
  {
   "cell_type": "markdown",
   "metadata": {},
   "source": [
    "This component-construction and limit-setting procedure is automated for a few common cases in the `figures_of_merit` module. Here, for example, we make a figure-of-merit object for testing sensitivity to the Ahlers et al GZK flux:"
   ]
  },
  {
   "cell_type": "code",
   "execution_count": 13,
   "metadata": {},
   "outputs": [],
   "source": [
    "from toise import figures_of_merit\n",
    "fom = figures_of_merit.GZK({'Fictive-Optical': 15})"
   ]
  },
  {
   "cell_type": "markdown",
   "metadata": {},
   "source": [
    "There are several different figures of merit we could ask for: an upper limit (sensitivity), $5\\sigma$ discovery potential, or a Feldman-Cousins upper limit (more useful in the no-background case typical of UHE searches). These can be either integrated over the entire energy range of the signal, or divided into energy bins. For example, we can calculate a model-dependent upper limit using the full energy range:"
   ]
  },
  {
   "cell_type": "code",
   "execution_count": 14,
   "metadata": {
    "scrolled": true
   },
   "outputs": [
    {
     "name": "stderr",
     "output_type": "stream",
     "text": [
      "INFO:root:ns: 6.2 nb: 3.6e+04\n"
     ]
    },
    {
     "data": {
      "text/plain": [
       "(2.603375018582195, 6.194705328838609, 36285.342272376765)"
      ]
     },
     "execution_count": 14,
     "metadata": {},
     "output_type": "execute_result"
    }
   ],
   "source": [
    "fom.benchmark(figures_of_merit.TOT.ul)"
   ]
  },
  {
   "cell_type": "markdown",
   "metadata": {},
   "source": [
    "It's also useful to construct a differential limit, where the neutrino flux is only considered in smaller energy ranges. For example, let's construct a limit over single decades. Note that the limit is returned in units of the Ahlers et al flux, so some extra work would be required to put it in standard units."
   ]
  },
  {
   "cell_type": "code",
   "execution_count": 15,
   "metadata": {},
   "outputs": [
    {
     "name": "stderr",
     "output_type": "stream",
     "text": [
      "INFO:root:ns: 17 nb: 3.6e+04\n",
      "INFO:root:ns: 25 nb: 3.6e+04\n",
      "INFO:root:ns: 56 nb: 3.6e+04\n",
      "INFO:root:ns: 1.2e+02 nb: 3.6e+04\n",
      "INFO:root:ns: 90 nb: 3.6e+04\n",
      "INFO:root:ns: 32 nb: 3.6e+04\n",
      "INFO:root:ns: 13 nb: 3.6e+04\n",
      "INFO:root:ns: 5.9 nb: 3.6e+04\n",
      "INFO:root:ns: 3.3 nb: 3.6e+04\n",
      "INFO:root:ns: 2.3 nb: 3.6e+04\n",
      "INFO:root:ns: 1.5 nb: 3.6e+04\n",
      "INFO:root:ns: 16 nb: 3.6e+04\n",
      "INFO:root:ns: 17 nb: 3.6e+04\n",
      "INFO:root:ns: 19 nb: 3.6e+04\n",
      "INFO:root:ns: 25 nb: 3.6e+04\n",
      "INFO:root:ns: 38 nb: 3.6e+04\n",
      "INFO:root:ns: 59 nb: 3.6e+04\n",
      "INFO:root:ns: 85 nb: 3.6e+04\n",
      "INFO:root:ns: 1e+02 nb: 3.6e+04\n",
      "INFO:root:ns: 88 nb: 3.6e+04\n",
      "INFO:root:ns: 57 nb: 3.6e+04\n",
      "INFO:root:ns: 35 nb: 3.6e+04\n",
      "INFO:root:ns: 20 nb: 3.6e+04\n",
      "INFO:root:ns: 15 nb: 3.6e+04\n",
      "INFO:root:ns: 9.4 nb: 3.6e+04\n",
      "INFO:root:ns: 6.4 nb: 3.6e+04\n",
      "INFO:root:ns: 4.5 nb: 3.6e+04\n",
      "INFO:root:ns: 3.4 nb: 3.6e+04\n",
      "INFO:root:ns: 2.8 nb: 3.6e+04\n",
      "INFO:root:ns: 2.4 nb: 3.6e+04\n",
      "INFO:root:ns: 2.1 nb: 3.6e+04\n",
      "INFO:root:ns: 1.5 nb: 3.6e+04\n",
      "INFO:root:ns: 1.4 nb: 3.6e+04\n"
     ]
    }
   ],
   "source": [
    "fulldecade = fom.benchmark(figures_of_merit.DIFF.ul, decades=1)\n",
    "halfdecade = fom.benchmark(figures_of_merit.DIFF.ul, decades=0.5)"
   ]
  },
  {
   "cell_type": "code",
   "execution_count": 16,
   "metadata": {},
   "outputs": [
    {
     "data": {
      "image/png": "[encoded data removed]",
      "text/plain": [
       "<Figure size 432x288 with 1 Axes>"
      ]
     },
     "metadata": {
      "needs_background": "light"
     },
     "output_type": "display_data"
    }
   ],
   "source": [
    "fig, ax = plt.subplots()\n",
    "ax.loglog(*fulldecade[:2], marker='o', label='Full decade')\n",
    "ax.loglog(*halfdecade[:2], marker='s', label='Half decade')\n",
    "ax.set_ylabel(r'Upper limit ($\\Phi_{\\max}/\\Phi_{\\rm GZK}$)')\n",
    "ax.set_xlabel(r'Central neutrino energy (GeV)')\n",
    "ax.legend()\n",
    "plt.title('Fictive Optical-only median upper limit')\n",
    "plt.tight_layout()\n",
    "del fig, ax"
   ]
  },
  {
   "cell_type": "markdown",
   "metadata": {},
   "source": [
    "Now we can see how adding a radio array might boost sensitivity. For purposes of illustration we will use equal livetimes, but you could adjust these to account for duty cycles, construction schedule differences, etc."
   ]
  },
  {
   "cell_type": "code",
   "execution_count": 17,
   "metadata": {},
   "outputs": [],
   "source": [
    "fom_with_radio = figures_of_merit.GZK({'Fictive-Optical': 15, 'Fictive-Radio': 15})"
   ]
  },
  {
   "cell_type": "code",
   "execution_count": 18,
   "metadata": {},
   "outputs": [
    {
     "name": "stderr",
     "output_type": "stream",
     "text": [
      "INFO:root:ns: 17 nb: 3.6e+04\n",
      "INFO:root:ns: 25 nb: 3.6e+04\n",
      "INFO:root:ns: 56 nb: 3.6e+04\n",
      "INFO:root:ns: 1.1e+02 nb: 3.6e+04\n",
      "INFO:root:ns: 87 nb: 3.6e+04\n",
      "INFO:root:ns: 32 nb: 3.6e+04\n",
      "INFO:root:ns: 14 nb: 3.6e+04\n",
      "INFO:root:ns: 10 nb: 3.6e+04\n",
      "INFO:root:ns: 7.6 nb: 3.6e+04\n",
      "INFO:root:ns: 4.8 nb: 3.6e+04\n",
      "INFO:root:ns: 3 nb: 3.6e+04\n",
      "INFO:root:ns: 16 nb: 3.6e+04\n",
      "INFO:root:ns: 17 nb: 3.6e+04\n",
      "INFO:root:ns: 19 nb: 3.6e+04\n",
      "INFO:root:ns: 25 nb: 3.6e+04\n",
      "INFO:root:ns: 38 nb: 3.6e+04\n",
      "INFO:root:ns: 58 nb: 3.6e+04\n",
      "INFO:root:ns: 83 nb: 3.6e+04\n",
      "INFO:root:ns: 1e+02 nb: 3.6e+04\n",
      "INFO:root:ns: 85 nb: 3.6e+04\n",
      "INFO:root:ns: 56 nb: 3.6e+04\n",
      "INFO:root:ns: 35 nb: 3.6e+04\n",
      "INFO:root:ns: 20 nb: 3.6e+04\n",
      "INFO:root:ns: 15 nb: 3.6e+04\n",
      "INFO:root:ns: 10 nb: 3.6e+04\n",
      "INFO:root:ns: 9.3 nb: 3.6e+04\n",
      "INFO:root:ns: 8.5 nb: 3.6e+04\n",
      "INFO:root:ns: 7.3 nb: 3.6e+04\n",
      "INFO:root:ns: 6 nb: 3.6e+04\n",
      "INFO:root:ns: 4.8 nb: 3.6e+04\n",
      "INFO:root:ns: 3.8 nb: 3.6e+04\n",
      "INFO:root:ns: 3.1 nb: 3.6e+04\n",
      "INFO:root:ns: 2.6 nb: 3.6e+04\n"
     ]
    }
   ],
   "source": [
    "fulldecade_withradio = fom_with_radio.benchmark(figures_of_merit.DIFF.ul, decades=1)\n",
    "halfdecade_withradio = fom_with_radio.benchmark(figures_of_merit.DIFF.ul, decades=0.5)"
   ]
  },
  {
   "cell_type": "code",
   "execution_count": 19,
   "metadata": {},
   "outputs": [
    {
     "data": {
      "image/png": "[encoded data removed]",
      "text/plain": [
       "<Figure size 432x288 with 1 Axes>"
      ]
     },
     "metadata": {
      "needs_background": "light"
     },
     "output_type": "display_data"
    }
   ],
   "source": [
    "fig, ax = plt.subplots()\n",
    "ax.loglog(*fulldecade_withradio[:2], marker='o', label='Full decade')\n",
    "ax.loglog(*halfdecade_withradio[:2], marker='s', label='Half decade')\n",
    "ax.set_ylabel(r'Upper limit ($\\Phi_{\\max}/\\Phi_{\\rm GZK}$)')\n",
    "ax.set_xlabel(r'Central neutrino energy (GeV)')\n",
    "ax.legend()\n",
    "plt.title('Fictive Optical+Radio median upper limit')\n",
    "del fig, ax"
   ]
  },
  {
   "cell_type": "code",
   "execution_count": 20,
   "metadata": {},
   "outputs": [
    {
     "data": {
      "image/png": "[encoded data removed]",
      "text/plain": [
       "<Figure size 432x288 with 1 Axes>"
      ]
     },
     "metadata": {
      "needs_background": "light"
     },
     "output_type": "display_data"
    }
   ],
   "source": [
    "# here, we plot them together, just to get the full effect\n",
    "# this is also a plot in the paper\n",
    "\n",
    "from matplotlib import style\n",
    "style.use(\"../../figures/toise.mplstyle\")\n",
    "\n",
    "fig = plt.figure(figsize=(6, 4))\n",
    "ax = fig.subplots()\n",
    "\n",
    "ax.loglog(*halfdecade[:2], marker='s', color='C1', label='Half decade')\n",
    "ax.loglog(*halfdecade_withradio[:2], 's--', color='C1')\n",
    "ax.loglog(*fulldecade[:2], marker='o', color='C0', label='Full decade')\n",
    "ax.loglog(*fulldecade_withradio[:2], 'o--', color='C0')\n",
    "\n",
    "ax.set_ylabel(r'Upper limit ($\\Phi_{\\max}/\\Phi_{\\rm GZK}$)')\n",
    "ax.set_xlabel(r'Neutrino energy (GeV)')\n",
    "ax.set_title('Fictive Detector Median Upper Limit')\n",
    "\n",
    "from matplotlib.lines import Line2D\n",
    "legend_elements = [ \n",
    "    Line2D([-10], [-10], color='C0', label='Optical Only'),\n",
    "    Line2D([-10], [-10], color='C1', linestyle='--', label='Optical + Radio'),\n",
    "    Line2D([-10], [-10], marker='o', color='w', markerfacecolor='k', label='Full Decade'),\n",
    "    Line2D([-10], [-10], marker='s', color='w', markerfacecolor='k', label='Half Decade')\n",
    "]\n",
    "ax.legend(handles=legend_elements)\n",
    "\n",
    "plt.tight_layout()\n",
    "fig.savefig('UHELimit_wradio.pdf')\n",
    "\n"
   ]
  },
  {
   "cell_type": "code",
   "execution_count": null,
   "metadata": {},
   "outputs": [],
   "source": []
  }
 ],
 "metadata": {
  "interpreter": {
   "hash": "58c0895f5e0218fe42ea0d65c34afa611258fa581a151421405042a8d733e1b8"
  },
  "kernelspec": {
   "display_name": "Python 3.9.7 64-bit ('gen2-analysis': conda)",
   "name": "python3"
  },
  "language_info": {
   "codemirror_mode": {
    "name": "ipython",
    "version": 3
   },
   "file_extension": ".py",
   "mimetype": "text/x-python",
   "name": "python",
   "nbconvert_exporter": "python",
   "pygments_lexer": "ipython3",
   "version": "3.9.7"
  }
 },
 "nbformat": 4,
 "nbformat_minor": 4
}
