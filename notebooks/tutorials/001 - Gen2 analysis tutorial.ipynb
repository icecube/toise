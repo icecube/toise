{
 "cells": [
  {
   "cell_type": "markdown",
   "metadata": {},
   "source": [
    "## Installation\n",
    "\n",
    "The easiest way to install the Gen2 analysis package and its depedencies is\n",
    "with `conda`. If you do not already have `miniconda` on your system, obtain the\n",
    "installer from https://conda.io/miniconda.html, and install in a location of\n",
    "your choice, e.g. `sh ./Miniconda3-latest-Linux-x86_64.sh -p $CONDA_PREFIX`,\n",
    "replacing `CONDA_PREFIX` with the prefix you chose.\n",
    "\n",
    "Now, obtain the gen2-analysis package:\n",
    "\n",
    "```\n",
    "git clone git@github.com:IceCubeOpenSource/gen2-analysis.git\n",
    "```\n",
    "\n",
    "Note that the GitHub repository is private and you must be a member of the IceCubeOpenSource org to access it.\n",
    "\n",
    "Then, from the gen2_analysis source directory, create a new environment:\n",
    "\n",
    "```\n",
    "ICECUBE_PASSWORD=xxx $CONDA_PREFIX/bin/conda env create -n gen2-analysis --file environment.yml\n",
    "```\n",
    "\n",
    "Replace `xxx` with the standard IceCube password. This will also download the required data tables.\n",
    "\n",
    "If you have a Jupyter notebook installation from another conda environment, you should now be able to open this notebook in Jupyter and select the \"Python [conda env:miniconda3-gen2-analysis]\" kernel.\n",
    "\n",
    "Otherwise, activate the environment with ```. $CONDA_PREFIX/bin/activate gen2-analysis```. This should leave you with a prompt that looks like\n",
    "\n",
    "```(gen2-analysis) [jakob@TheInfoSphere3:~]$```.\n",
    "\n",
    "Now, install Jupyter with `conda install --channel conda-forge notebook`, start a Jupyter notebook session from the and run this notebook."
   ]
  },
  {
   "cell_type": "code",
   "execution_count": 1,
   "metadata": {},
   "outputs": [],
   "source": [
    "%matplotlib inline\n",
    "import matplotlib.pyplot as plt"
   ]
  },
  {
   "cell_type": "markdown",
   "metadata": {},
   "source": [
    "## Tutorial\n",
    "\n",
    "### From effective areas to discovery potentials\n",
    "\n",
    "The gen2_analysis package uses parameterized instrument response functions to construct multi-dimensional neutrino effective areas for IceCube and proposed Gen2 designs. These effective areas are used to convert neutrino fluxes for signal and background components into event rates in observable bins, and the event rates in turn to derive median sensitivities and discovery potentials for various kinds of astrophysical neutrino fluxes.\n",
    "\n",
    "### Effective area factory interface\n",
    "\n",
    "The gen2_analysis package comes with a few pre-made instrument responses. The easiest way to use these is through the `gen2_analysis.factory` module. This module keeps track of known instrument configurations, and creates effective areas for them on demand. In this tutorial we will only be looking at diffuse fluxes, so we set the default binning in source opening angle to a single bin:"
   ]
  },
  {
   "cell_type": "code",
   "execution_count": 2,
   "metadata": {},
   "outputs": [
    {
     "name": "stderr",
     "output_type": "stream",
     "text": [
      "INFO:numexpr.utils:NumExpr defaulting to 8 threads.\n"
     ]
    }
   ],
   "source": [
    "import numpy\n",
    "from gen2_analysis import factory\n",
    "factory.set_kwargs(psi_bins={k: [0, numpy.pi] for k in ('tracks', 'cascades', 'radio')})"
   ]
  },
  {
   "cell_type": "markdown",
   "metadata": {},
   "source": [
    "You can of course construct and use arbitrary effective areas. We'll cover that later. Now, you can explicitly call the factory to construct the effective areas for various event classes:"
   ]
  },
  {
   "cell_type": "code",
   "execution_count": 3,
   "metadata": {},
   "outputs": [
    {
     "name": "stderr",
     "output_type": "stream",
     "text": [
      "/opt/homebrew/Caskroom/miniforge/base/envs/gen2-analysis/lib/python3.9/site-packages/dashi/histogram.py:144: FutureWarning: Using a non-tuple sequence for multidimensional indexing is deprecated; use `arr[tuple(seq)]` instead of `arr[seq]`. In the future this will be interpreted as an array index, `arr[np.array(seq)]`, which will result either in an error or a different result.\n",
      "  return self._h_bincontent[self._h_visiblerange]\n",
      "/Users/jakob/Documents/IceCube/projects/2021/gen2-analysis/gen2_analysis/effective_areas.py:271: RuntimeWarning: divide by zero encountered in log10\n",
      "  y = numpy.where(~(h.bincontent <= 0), numpy.log10(h.bincontent), -numpy.inf)\n",
      "/Users/jakob/Documents/IceCube/projects/2021/gen2-analysis/gen2_analysis/effective_areas.py:834: UserWarning: Reconstruction quantities are made up for now\n",
      "  warnings.warn(\"Reconstruction quantities are made up for now\")\n"
     ]
    }
   ],
   "source": [
    "aeffs = factory.get('Gen2-InIce')"
   ]
  },
  {
   "cell_type": "markdown",
   "metadata": {},
   "source": [
    "This returns a dictionary whose keys are the event classes. Currently there are:\n",
    "\n",
    "* shadowed_tracks: tracks entering the detector from the outside that pass through the footprint of the surface veto. These have a smaller penetrating muon background than\n",
    "* unshadowed_tracks: all remaining throughgoing tracks.\n",
    "* cascades: neutrino interactions inside the fiducial volume (1/2 string spacing inside the outer strings) where the outgoing lepton is a) not a muon, and b) not a tau with a decay length > 300 m."
   ]
  },
  {
   "cell_type": "code",
   "execution_count": 4,
   "metadata": {},
   "outputs": [
    {
     "data": {
      "text/plain": [
       "dict_keys(['shadowed_tracks', 'unshadowed_tracks', 'double_cascades', 'starting_tracks', 'cascades'])"
      ]
     },
     "execution_count": 4,
     "metadata": {},
     "output_type": "execute_result"
    }
   ],
   "source": [
    "aeffs.keys()"
   ]
  },
  {
   "cell_type": "markdown",
   "metadata": {},
   "source": [
    "Behind each of these keys is a pair of effective areas, one for neutrinos, and one for penetrating atmospheric muons. Cascades are a special case, as we currently assume that the outer-layer veto completely removes penetrating muons. This is represented by an empty effective area:"
   ]
  },
  {
   "cell_type": "code",
   "execution_count": 5,
   "metadata": {},
   "outputs": [
    {
     "name": "stdout",
     "output_type": "stream",
     "text": [
      "shadowed_tracks: (<gen2_analysis.effective_areas.effective_area object at 0x107f2dbe0>, <gen2_analysis.effective_areas.effective_area object at 0x12cbf1040>)\n",
      "cascades: (<gen2_analysis.effective_areas.effective_area object at 0x12d418490>, None)\n"
     ]
    }
   ],
   "source": [
    "print('shadowed_tracks: {}'.format(aeffs['shadowed_tracks']))\n",
    "print('cascades: {}'.format(aeffs['cascades']))"
   ]
  },
  {
   "cell_type": "code",
   "execution_count": 6,
   "metadata": {},
   "outputs": [
    {
     "name": "stdout",
     "output_type": "stream",
     "text": [
      "area.values.shape: (6, 100, 20, 100, 2)\n",
      "type: 6 bins (1 per type)\n",
      "true_energy: [10.0, ..., 100000000000.0]\n",
      "true_zenith_band: [-1.0, ..., 1.0]\n",
      "reco_energy: [10.0, ..., 100000000000.0]\n",
      "reco_psi: [0.0, ..., inf]\n"
     ]
    }
   ],
   "source": [
    "area = aeffs['unshadowed_tracks'][0]\n",
    "print('area.values.shape: {}'.format(area.values.shape))\n",
    "print('{}: 6 bins (1 per type)'.format(area.dimensions[0]))\n",
    "for label, edges in zip(area.dimensions[1:], area.bin_edges):\n",
    "    print('{}: [{}, ..., {}]'.format(label, edges[0], edges[-1]))\n",
    "\n"
   ]
  },
  {
   "cell_type": "markdown",
   "metadata": {},
   "source": [
    "## Flux components\n",
    "\n",
    "To predict the sensitivity of a given detector configuration (exposure, i.e. effective area and livetime) to a neutrino emission scenario, we have to calculate event rates. This is where flux components come in. There are a number of them available in `gen2_analysis.diffuse` and `gen2_analysis.pointsource`. The diffuse versions predict event rates integrated over zenith angle bins, while event rates from point source fluxes are divided into rings centered on the putative source position.\n",
    "\n",
    "As an example, let's construct a conventional atmospheric neutrino background (Honda 2006 + H3a). Like all components, it has an `expectations` attribute that returns a dictionary of event rates, in this case divided into 20 bins of cos(zenith) (as we requested when we constructed the effective area) and 100 bins of reconstructed energy proxy. For convenience we choose a year of livetime. Below is a plot of the event rate per energy proxy bin compared to an isotropic, $E^2\\Phi = 10^{-8} \\, {\\rm GeV \\, cm^{-2} \\, sr^{-1} \\, s^{-1}}$ per flavor flux for horizontal tracks. The wiggles in the energy distribution for the $E^{-2}$ flux come from deficiencies in the energy resolution parametrization."
   ]
  },
  {
   "cell_type": "code",
   "execution_count": 7,
   "metadata": {},
   "outputs": [
    {
     "data": {
      "text/plain": [
       "Text(0.5, 0, 'Energy proxy')"
      ]
     },
     "execution_count": 7,
     "metadata": {},
     "output_type": "execute_result"
    },
    {
     "data": {
      "image/png": "[encoded data removed]",
      "text/plain": [
       "<Figure size 432x288 with 1 Axes>"
      ]
     },
     "metadata": {
      "needs_background": "light"
     },
     "output_type": "display_data"
    }
   ],
   "source": [
    "from gen2_analysis import diffuse, plotting\n",
    "\n",
    "conventional = diffuse.AtmosphericNu.conventional(area, livetime=1)\n",
    "astro = diffuse.DiffuseAstro(area, livetime=1)\n",
    "edges = area.bin_edges[area.dimensions.index('reco_energy')-1]\n",
    "\n",
    "plt.plot(*plotting.stepped_path(edges, conventional.expectations[10,:]), label='conventional atmsopheric')\n",
    "plt.plot(*plotting.stepped_path(edges, astro.expectations()[10,:]), label='E^-2 diffuse')\n",
    "\n",
    "plt.legend()\n",
    "plt.loglog()\n",
    "plt.ylim(1e-2, 1e3)\n",
    "plt.ylabel('Events per year')\n",
    "plt.xlabel('Energy proxy')"
   ]
  },
  {
   "cell_type": "markdown",
   "metadata": {},
   "source": [
    "## Multiple flux components (bundles)\n",
    "\n",
    "A real analysis will use multiple detection channels in different detectors (e.g. N years of IceCube plus M years of Gen2), each of which is represented by a different effective area. You can create event rate predictions for such a collection of effective areas by writing a factory function like the following:"
   ]
  },
  {
   "cell_type": "code",
   "execution_count": 8,
   "metadata": {},
   "outputs": [],
   "source": [
    "from gen2_analysis import diffuse, multillh, surface_veto\n",
    "\n",
    "def make_components(aeffs):\n",
    "    aeff, muon_aeff = aeffs\n",
    "    \n",
    "    energy_threshold = numpy.inf\n",
    "    atmo = diffuse.AtmosphericNu.conventional(aeff, 1, hard_veto_threshold=energy_threshold)\n",
    "    atmo.prior = lambda v, **kwargs: -(v-1)**2/(2*0.1**2)\n",
    "    prompt = diffuse.AtmosphericNu.prompt(aeff, 1, hard_veto_threshold=energy_threshold)\n",
    "    prompt.min = 0.5\n",
    "    prompt.max = 3.\n",
    "    astro = diffuse.DiffuseAstro(aeff, 1)\n",
    "    astro.seed = 2.\n",
    "    \n",
    "    if muon_aeff is None:\n",
    "        muon = diffuse.NullComponent(aeff)\n",
    "    else:\n",
    "        muon = surface_veto.MuonBundleBackground(muon_aeff, 1)\n",
    "    \n",
    "    return dict(atmo=atmo, prompt=prompt, astro=astro, muon=muon)\n",
    "\n",
    "    return components "
   ]
  },
  {
   "cell_type": "markdown",
   "metadata": {},
   "source": [
    "`factory.component_bundle()` uses this factory function to construct components that predict event rates in all detectors and detection channels for the given combination of livetimes (here, 15 years of Gen2 for simplicity)"
   ]
  },
  {
   "cell_type": "code",
   "execution_count": 9,
   "metadata": {},
   "outputs": [
    {
     "data": {
      "text/plain": [
       "{'muon': <gen2_analysis.multillh.Combination at 0x12d5c97c0>,\n",
       " 'prompt': <gen2_analysis.multillh.Combination at 0x12d5c9f70>,\n",
       " 'astro': <gen2_analysis.multillh.Combination at 0x12d5c9e50>,\n",
       " 'atmo': <gen2_analysis.multillh.Combination at 0x12d5c9e80>}"
      ]
     },
     "execution_count": 9,
     "metadata": {},
     "output_type": "execute_result"
    }
   ],
   "source": [
    "bundle = factory.component_bundle({'Gen2-InIce': 15}, make_components)\n",
    "components = bundle.get_components()\n",
    "components"
   ]
  },
  {
   "cell_type": "markdown",
   "metadata": {},
   "source": [
    "## Calculating a sensitivity\n",
    "\n",
    "You can use these to construct a likelihood and predict sensitivities and discovery potentials. As an illustration, let's calculate the sensitivity (median 90% upper limit assuming there is no actual signal) for the normalization of an E^-2 isotropic equal-flavor flux. To do this exactly, you would draw realizations of the data Poisson-distributed around the mean event rate in each bin, fit for the normalization of the E^-2 component, derive an upper limit, and take the median upper limit from the population of realizations. Here we take two shortcuts: 1) we construct a special dataset, called the \"Asimov dataset,\" where the observed event rates are replaced by their exact means, and 2) we assume that the null test statistic (TS) is chi^2 distributed. 1) is okay because the TS derived from the Asimov LLH is the same as the median of TSes from Poisson-sampled realizations, and 2) is okay as long as the event rate in the bins that provide most of the TS is sufficiently large (in practice, >= 10 per bin). To calculate sensitivity, we create pseudodata where there is no contribution at all from the E^-2 component:"
   ]
  },
  {
   "cell_type": "code",
   "execution_count": 10,
   "metadata": {},
   "outputs": [],
   "source": [
    "llh = multillh.asimov_llh(bundle.get_components(), astro=0)"
   ]
  },
  {
   "cell_type": "markdown",
   "metadata": {},
   "source": [
    "Now, let's actually calculate a sensitivity. We do this by calculating the TS between the best fit (astro=0) and a given normalization, and finding the point where this crosses ~2.705 (90% CL for 1 degree of freedom):"
   ]
  },
  {
   "cell_type": "code",
   "execution_count": 11,
   "metadata": {},
   "outputs": [
    {
     "name": "stderr",
     "output_type": "stream",
     "text": [
      "/Users/jakob/Documents/IceCube/projects/2021/gen2-analysis/gen2_analysis/multillh.py:222: RuntimeWarning: divide by zero encountered in log\n",
      "  log_lambda = numpy.log(lamb[prop])\n",
      "/Users/jakob/Documents/IceCube/projects/2021/gen2-analysis/gen2_analysis/multillh.py:224: RuntimeWarning: divide by zero encountered in log\n",
      "  log_data = numpy.log(self.data[prop])\n"
     ]
    },
    {
     "data": {
      "text/plain": [
       "0.0011071130666095996"
      ]
     },
     "execution_count": 11,
     "metadata": {},
     "output_type": "execute_result"
    }
   ],
   "source": [
    "from scipy.optimize import bisect\n",
    "from scipy import stats\n",
    "# test statistic between astro = f and astro = 0\n",
    "ts = lambda f: -2*(llh.llh(**llh.fit(astro=f)) - llh.llh(**llh.fit(astro=0)))\n",
    "# fit for \\Delta TS = 2.705 (90% CL for 1 degree of freedom)\n",
    "critical_ts = stats.chi2(1).ppf(0.9)\n",
    "limit = bisect(lambda f: ts(f)-critical_ts, 0, 1)\n",
    "limit"
   ]
  },
  {
   "cell_type": "markdown",
   "metadata": {},
   "source": [
    "In other words, if the IceCube signal were not real, 15 years of Gen2 would constrain the normalization of an E^-2 component to ~1/1000 of the flux level we think we see. We can also plot a profile likelihood for comparison."
   ]
  },
  {
   "cell_type": "code",
   "execution_count": 12,
   "metadata": {},
   "outputs": [
    {
     "data": {
      "text/plain": [
       "Text(0.5, 0, 'Astro flux normalization')"
      ]
     },
     "execution_count": 12,
     "metadata": {},
     "output_type": "execute_result"
    },
    {
     "data": {
      "image/png": "[encoded data removed]",
      "text/plain": [
       "<Figure size 432x288 with 1 Axes>"
      ]
     },
     "metadata": {
      "needs_background": "light"
     },
     "output_type": "display_data"
    }
   ],
   "source": [
    "# also plot a profile likelihood\n",
    "x = numpy.linspace(0., 5e-3, 11)\n",
    "prof = llh.profile1d('astro', x)\n",
    "ts = -2*(prof['LLH'] - numpy.nanmax(prof['LLH']))\n",
    "\n",
    "plt.plot(x, ts)\n",
    "plt.axvline(limit, ls='--', color='grey')\n",
    "plt.axhline(critical_ts, ls='--', color='grey')\n",
    "\n",
    "plt.ylabel('$-2\\Delta \\ln L$')\n",
    "plt.xlabel('Astro flux normalization')"
   ]
  },
  {
   "cell_type": "markdown",
   "metadata": {},
   "source": [
    "This component-construction and limit-setting procedure is automated for a few common cases in the `figures_of_merit` module. Here, for example, we make a figure-of-merit object for testing sensitivity to the Ahlers et al GZK flux:"
   ]
  },
  {
   "cell_type": "code",
   "execution_count": 13,
   "metadata": {},
   "outputs": [],
   "source": [
    "from gen2_analysis import figures_of_merit\n",
    "fom = figures_of_merit.GZK({'Gen2-InIce': 15})"
   ]
  },
  {
   "cell_type": "markdown",
   "metadata": {},
   "source": [
    "There are several different figures of merit we could ask for: an upper limit (sensitivity), $5\\sigma$ discovery potential, or a Feldman-Cousins upper limit (more useful in the no-background case typical of UHE searches). These can be either integrated over the entire energy range of the signal, or divided into energy bins. For example, we can calculate a model-dependent upper limit using the full energy range:"
   ]
  },
  {
   "cell_type": "code",
   "execution_count": 14,
   "metadata": {
    "scrolled": true
   },
   "outputs": [
    {
     "name": "stderr",
     "output_type": "stream",
     "text": [
      "/Users/jakob/Documents/IceCube/projects/2021/gen2-analysis/gen2_analysis/multillh.py:222: RuntimeWarning: divide by zero encountered in log\n",
      "  log_lambda = numpy.log(lamb[prop])\n",
      "/Users/jakob/Documents/IceCube/projects/2021/gen2-analysis/gen2_analysis/multillh.py:224: RuntimeWarning: divide by zero encountered in log\n",
      "  log_data = numpy.log(self.data[prop])\n",
      "INFO:root:ns: 12 nb: 4.8e+05\n"
     ]
    },
    {
     "data": {
      "text/plain": [
       "(0.8881471823714082, 11.632148272416089, 480125.09694591933)"
      ]
     },
     "execution_count": 14,
     "metadata": {},
     "output_type": "execute_result"
    }
   ],
   "source": [
    "fom.benchmark(figures_of_merit.TOT.ul)"
   ]
  },
  {
   "cell_type": "markdown",
   "metadata": {},
   "source": [
    "It's also useful to construct a differential limit, where the neutrino flux is only considered in smaller energy ranges. For example, let's construct a limit over single decades. Note that the limit is returned in units of the Ahlers et al flux, so some extra work would be required to put it in standard units."
   ]
  },
  {
   "cell_type": "code",
   "execution_count": 15,
   "metadata": {},
   "outputs": [
    {
     "name": "stderr",
     "output_type": "stream",
     "text": [
      "/Users/jakob/Documents/IceCube/projects/2021/gen2-analysis/gen2_analysis/pointsource.py:542: RuntimeWarning: divide by zero encountered in double_scalars\n",
      "  baseline = min((1000, numpy.sqrt(critical_ts) / (ns / numpy.sqrt(nb)))) / 10\n",
      "/Users/jakob/Documents/IceCube/projects/2021/gen2-analysis/gen2_analysis/pointsource.py:544: RuntimeWarning: divide by zero encountered in double_scalars\n",
      "  ((numpy.sqrt(critical_ts) / (ns / numpy.sqrt(nb))) / 10, 0.3 / ns)\n",
      "INFO:root:ns: 1.9e+02 nb: 4.8e+05\n",
      "INFO:root:ns: 3.2e+02 nb: 4.8e+05\n",
      "INFO:root:ns: 5.5e+02 nb: 4.8e+05\n",
      "INFO:root:ns: 2.2e+02 nb: 4.8e+05\n",
      "INFO:root:ns: 73 nb: 4.8e+05\n",
      "INFO:root:ns: 29 nb: 4.8e+05\n",
      "INFO:root:ns: 11 nb: 4.8e+05\n",
      "INFO:root:ns: 5.1 nb: 4.8e+05\n",
      "INFO:root:ns: 3.1 nb: 4.8e+05\n",
      "INFO:root:ns: 1.6 nb: 4.8e+05\n",
      "INFO:root:ns: 1.9e+02 nb: 4.8e+05\n",
      "INFO:root:ns: 2.3e+02 nb: 4.8e+05\n",
      "INFO:root:ns: 3.3e+02 nb: 4.8e+05\n",
      "INFO:root:ns: 4.5e+02 nb: 4.8e+05\n",
      "INFO:root:ns: 3.8e+02 nb: 4.8e+05\n",
      "INFO:root:ns: 2.3e+02 nb: 4.8e+05\n",
      "INFO:root:ns: 1.4e+02 nb: 4.8e+05\n",
      "INFO:root:ns: 81 nb: 4.8e+05\n",
      "INFO:root:ns: 44 nb: 4.8e+05\n",
      "INFO:root:ns: 31 nb: 4.8e+05\n",
      "INFO:root:ns: 19 nb: 4.8e+05\n",
      "INFO:root:ns: 12 nb: 4.8e+05\n",
      "INFO:root:ns: 8 nb: 4.8e+05\n",
      "INFO:root:ns: 5.5 nb: 4.8e+05\n",
      "INFO:root:ns: 4.1 nb: 4.8e+05\n",
      "INFO:root:ns: 3.3 nb: 4.8e+05\n",
      "INFO:root:ns: 2.7 nb: 4.8e+05\n",
      "INFO:root:ns: 1.7 nb: 4.8e+05\n",
      "INFO:root:ns: 1.6 nb: 4.8e+05\n"
     ]
    }
   ],
   "source": [
    "fulldecade = fom.benchmark(figures_of_merit.DIFF.ul, decades=1)\n",
    "halfdecade = fom.benchmark(figures_of_merit.DIFF.ul, decades=0.5)"
   ]
  },
  {
   "cell_type": "code",
   "execution_count": 16,
   "metadata": {},
   "outputs": [
    {
     "data": {
      "text/plain": [
       "Text(0.5, 1.0, 'Gen2-InIce median upper limit')"
      ]
     },
     "execution_count": 16,
     "metadata": {},
     "output_type": "execute_result"
    },
    {
     "data": {
      "image/png": "[encoded data removed]",
      "text/plain": [
       "<Figure size 432x288 with 1 Axes>"
      ]
     },
     "metadata": {
      "needs_background": "light"
     },
     "output_type": "display_data"
    }
   ],
   "source": [
    "plt.loglog(*fulldecade[:2], marker='o', label='Full decade')\n",
    "plt.loglog(*halfdecade[:2], marker='o', label='Half decade')\n",
    "plt.ylabel(r'Upper limit ($\\Phi_{\\max}/\\Phi_{\\rm GZK}$)')\n",
    "plt.xlabel(r'Central neutrino energy (GeV)')\n",
    "plt.legend()\n",
    "plt.title('Gen2-InIce median upper limit')"
   ]
  },
  {
   "cell_type": "markdown",
   "metadata": {},
   "source": [
    "Now we can see how adding a radio array might boost sensitivity. For purposes of illustration we will use equal livetimes, but you could adjust these to account for duty cycles, construction schedule differences, etc."
   ]
  },
  {
   "cell_type": "code",
   "execution_count": 17,
   "metadata": {},
   "outputs": [
    {
     "name": "stderr",
     "output_type": "stream",
     "text": [
      "/Users/jakob/Documents/IceCube/projects/2021/gen2-analysis/gen2_analysis/effective_areas.py:1067: RuntimeWarning: divide by zero encountered in log\n",
      "  np.log(veff),\n"
     ]
    },
    {
     "name": "stdout",
     "output_type": "stream",
     "text": [
      "Calculating spline basis...\n",
      "Reticulating splines...\n",
      "\tConvolving bases...\n",
      "\t\tConvolving dimension 0\n",
      "\t\tConvolving dimension 1\n",
      "\t\tConvolving dimension 2\n",
      "\tFlattening residuals matrix...\n",
      "Transforming fit array...\n",
      "Computing least square solution...\n",
      "Analyze[15847]: 0.227947 s\n",
      "Factorize[15847]: 2.667088 s\n",
      "Solve[15847]: 0.088327 s\n",
      "Done: cleaning up\n",
      "Calculating spline basis...\n",
      "Reticulating splines...\n",
      "\tConvolving bases...\n",
      "\t\tConvolving dimension 0\n",
      "\t\tConvolving dimension 1\n",
      "\t\tConvolving dimension 2\n",
      "\tFlattening residuals matrix...\n",
      "Transforming fit array...\n",
      "Computing least square solution...\n",
      "Analyze[15847]: 0.231868 s\n",
      "Factorize[15847]: 2.134062 s\n",
      "Solve[15847]: 0.093839 s\n",
      "Done: cleaning up\n",
      "Calculating spline basis...\n",
      "Reticulating splines...\n",
      "\tConvolving bases...\n",
      "\t\tConvolving dimension 0\n",
      "\t\tConvolving dimension 1\n",
      "\t\tConvolving dimension 2\n",
      "\tFlattening residuals matrix...\n",
      "Transforming fit array...\n",
      "Computing least square solution...\n",
      "Analyze[15847]: 0.245983 s\n",
      "Factorize[15847]: 2.258027 s\n",
      "Solve[15847]: 0.108196 s\n",
      "Done: cleaning up\n"
     ]
    }
   ],
   "source": [
    "fom_with_radio = figures_of_merit.GZK({'Gen2-InIce': 15, 'Gen2-Radio': 15})"
   ]
  },
  {
   "cell_type": "code",
   "execution_count": 18,
   "metadata": {},
   "outputs": [
    {
     "name": "stderr",
     "output_type": "stream",
     "text": [
      "/Users/jakob/Documents/IceCube/projects/2021/gen2-analysis/gen2_analysis/pointsource.py:542: RuntimeWarning: divide by zero encountered in double_scalars\n",
      "  baseline = min((1000, numpy.sqrt(critical_ts) / (ns / numpy.sqrt(nb)))) / 10\n",
      "/Users/jakob/Documents/IceCube/projects/2021/gen2-analysis/gen2_analysis/pointsource.py:544: RuntimeWarning: divide by zero encountered in double_scalars\n",
      "  ((numpy.sqrt(critical_ts) / (ns / numpy.sqrt(nb))) / 10, 0.3 / ns)\n",
      "/Users/jakob/Documents/IceCube/projects/2021/gen2-analysis/gen2_analysis/multillh.py:222: RuntimeWarning: divide by zero encountered in log\n",
      "  log_lambda = numpy.log(lamb[prop])\n",
      "/Users/jakob/Documents/IceCube/projects/2021/gen2-analysis/gen2_analysis/multillh.py:224: RuntimeWarning: divide by zero encountered in log\n",
      "  log_data = numpy.log(self.data[prop])\n",
      "INFO:root:ns: 1.9e+02 nb: 4.8e+05\n",
      "INFO:root:ns: 3.2e+02 nb: 4.8e+05\n",
      "INFO:root:ns: 5.3e+02 nb: 4.8e+05\n",
      "INFO:root:ns: 2.2e+02 nb: 4.8e+05\n",
      "INFO:root:ns: 73 nb: 4.8e+05\n",
      "INFO:root:ns: 29 nb: 4.8e+05\n",
      "INFO:root:ns: 20 nb: 4.8e+05\n",
      "INFO:root:ns: 14 nb: 4.8e+05\n",
      "INFO:root:ns: 8.4 nb: 4.8e+05\n",
      "INFO:root:ns: 4.5 nb: 4.8e+05\n",
      "INFO:root:ns: 1.9e+02 nb: 4.8e+05\n",
      "INFO:root:ns: 2.2e+02 nb: 4.8e+05\n",
      "INFO:root:ns: 3.3e+02 nb: 4.8e+05\n",
      "INFO:root:ns: 4.4e+02 nb: 4.8e+05\n",
      "INFO:root:ns: 3.7e+02 nb: 4.8e+05\n",
      "INFO:root:ns: 2.3e+02 nb: 4.8e+05\n",
      "INFO:root:ns: 1.4e+02 nb: 4.8e+05\n",
      "INFO:root:ns: 81 nb: 4.8e+05\n",
      "INFO:root:ns: 44 nb: 4.8e+05\n",
      "INFO:root:ns: 31 nb: 4.8e+05\n",
      "INFO:root:ns: 21 nb: 4.8e+05\n",
      "INFO:root:ns: 18 nb: 4.8e+05\n",
      "INFO:root:ns: 16 nb: 4.8e+05\n",
      "INFO:root:ns: 13 nb: 4.8e+05\n",
      "INFO:root:ns: 11 nb: 4.8e+05\n",
      "INFO:root:ns: 8.3 nb: 4.8e+05\n",
      "INFO:root:ns: 6.3 nb: 4.8e+05\n",
      "INFO:root:ns: 4.7 nb: 4.8e+05\n",
      "INFO:root:ns: 3.6 nb: 4.8e+05\n"
     ]
    }
   ],
   "source": [
    "fulldecade_withradio = fom_with_radio.benchmark(figures_of_merit.DIFF.ul, decades=1)\n",
    "halfdecade_withradio = fom_with_radio.benchmark(figures_of_merit.DIFF.ul, decades=0.5)"
   ]
  },
  {
   "cell_type": "code",
   "execution_count": 19,
   "metadata": {},
   "outputs": [
    {
     "data": {
      "text/plain": [
       "Text(0.5, 1.0, 'Gen2-InIce+Radio median upper limit')"
      ]
     },
     "execution_count": 19,
     "metadata": {},
     "output_type": "execute_result"
    },
    {
     "data": {
      "image/png": "[encoded data removed]",
      "text/plain": [
       "<Figure size 432x288 with 1 Axes>"
      ]
     },
     "metadata": {
      "needs_background": "light"
     },
     "output_type": "display_data"
    }
   ],
   "source": [
    "plt.loglog(*fulldecade_withradio[:2], marker='o', label='Full decade')\n",
    "plt.loglog(*halfdecade_withradio[:2], marker='o', label='Half decade')\n",
    "plt.ylabel(r'Upper limit ($\\Phi_{\\max}/\\Phi_{\\rm GZK}$)')\n",
    "plt.xlabel(r'Central neutrino energy (GeV)')\n",
    "plt.legend()\n",
    "plt.title('Gen2-InIce+Radio median upper limit')"
   ]
  }
 ],
 "metadata": {
  "interpreter": {
   "hash": "58c0895f5e0218fe42ea0d65c34afa611258fa581a151421405042a8d733e1b8"
  },
  "kernelspec": {
   "display_name": "Python 3.9.7 64-bit ('gen2-analysis': conda)",
   "name": "python3"
  },
  "language_info": {
   "codemirror_mode": {
    "name": "ipython",
    "version": 3
   },
   "file_extension": ".py",
   "mimetype": "text/x-python",
   "name": "python",
   "nbconvert_exporter": "python",
   "pygments_lexer": "ipython3",
   "version": "3.9.7"
  }
 },
 "nbformat": 4,
 "nbformat_minor": 4
}
