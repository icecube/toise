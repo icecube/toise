{
 "cells": [
  {
   "cell_type": "code",
   "execution_count": 1,
   "id": "7c07951a-83b3-4b87-a126-4539e40f422d",
   "metadata": {},
   "outputs": [],
   "source": [
    "# reduce log-level output\n",
    "import logging\n",
    "logging.getLogger().setLevel(logging.ERROR)\n",
    "\n",
    "import matplotlib\n",
    "from matplotlib import pyplot as plt"
   ]
  },
  {
   "cell_type": "markdown",
   "id": "4181c966",
   "metadata": {},
   "source": [
    "# Performance of a fictive radio detector\n",
    "In this example, we will generate effective areas for a fictive radio detector. These will be used calculate event numbers for different assumptions on the instrument's performance. Finally, we will evaluate the sensitivity of the instrument for diffuse fluxes of ultra-high energy astrophysical neutrinos and predicted GZK neutrino flux models that are defined in the `toise` framework\n",
    "\n",
    "## Preparation of fictive radio detectors for analysis\n",
    "First, we are going to evaluate the distribution of detected events for different assumptions on the instrument's performance"
   ]
  },
  {
   "cell_type": "code",
   "execution_count": 2,
   "id": "9e29c19f",
   "metadata": {},
   "outputs": [],
   "source": [
    "import numpy as np\n",
    "import toise\n",
    "from toise import radio_aeff_generation\n",
    "from toise import factory\n",
    "from toise.util import constants"
   ]
  },
  {
   "cell_type": "markdown",
   "id": "51035c5c-051e-46b3-8ba0-6d7018963384",
   "metadata": {},
   "source": [
    "For the analysis, we choose a livetime of `nyears` years, and a fictive array of `nstations` stations."
   ]
  },
  {
   "cell_type": "code",
   "execution_count": 3,
   "id": "677fe07d-742c-4652-9c78-29347dfcac82",
   "metadata": {},
   "outputs": [],
   "source": [
    "nyears = 10\n",
    "nstations = 30"
   ]
  },
  {
   "cell_type": "markdown",
   "id": "28cf72ab-b70b-40ad-86e5-65f7b47f85f9",
   "metadata": {
    "tags": []
   },
   "source": [
    "Next we define the direction resolution binning. This is the last dimension of the toise effective area tuples.\n",
    "Setting a lower `psi_max_rad` will exclude a fraction of the angular resolution CDF above `psi_max_deg` from analysis. For a diffuse analysis we will not constrain it for now, and also choose only a single bin."
   ]
  },
  {
   "cell_type": "code",
   "execution_count": 4,
   "id": "a4cf34ef-1576-4ea1-b9be-a1f410e95a2b",
   "metadata": {},
   "outputs": [],
   "source": [
    "psi_max_rad = np.pi\n",
    "n_psi_bins = 1\n",
    "psi_bins = np.sqrt(np.linspace(0, psi_max_rad**2, n_psi_bins))"
   ]
  },
  {
   "cell_type": "markdown",
   "id": "18346208-bb76-409e-be9b-4498ad28a0e7",
   "metadata": {},
   "source": [
    "We then generate a radio effective area with the resolution parameters for our fictive detector defined in a `.yaml` file, and update some of the parameters by hand"
   ]
  },
  {
   "cell_type": "code",
   "execution_count": 5,
   "id": "4040f795",
   "metadata": {},
   "outputs": [
    {
     "name": "stderr",
     "output_type": "stream",
     "text": [
      "INFO:toise aeff calculation for radio:{'apply_analysis_efficiency': True, 'apply_energy_resolution': True, 'detector_setup': {'nstations': 150}, 'effective_volume': {'e': 'fictive_radio_dict_e.json', 'mu': 'fictive_radio_dict_mu.json', 'tau': 'fictive_radio_dict_tau.json', 'trigger_name': 'combined_array', 'simulated_stations': 150}, 'analysis_efficiency': {'minval': 0.4, 'maxval': 0.95, 'log_turnon_gev': 8.22, 'log_turnon_width': 0.9}, 'energy_resolution': {'loc': 0.02, 'scale': 0.14}, 'angular_resolution': {'norm1': 0.6, 'sigma1': 4.0, 'norm2': 0.25, 'sigma2': 30.0, 'norm_const': 0.15}}\n",
      "INFO:toise aeff calculation for radio:New value for parameter detector_setup/nstations: 30\n"
     ]
    }
   ],
   "source": [
    "radio_array = radio_aeff_generation.radio_aeff('radio_config.yaml', psi_bins=psi_bins)\n",
    "radio_array.set_parameter('detector_setup', 'nstations', nstations)"
   ]
  },
  {
   "cell_type": "markdown",
   "id": "8add55a9-e53d-4412-b5c1-1b2a85190563",
   "metadata": {},
   "source": [
    "We are now ready to create the `toise` effective area tuples. A dummy atmospheric muon background may also be created, but a good assumption on what to expect here is still actively debated in the community at the moment. Let's use the provided distribution anyway without caring too much..."
   ]
  },
  {
   "cell_type": "code",
   "execution_count": 6,
   "id": "936b6deb",
   "metadata": {},
   "outputs": [
    {
     "name": "stderr",
     "output_type": "stream",
     "text": [
      "WARNING:toise aeff calculation for radio:using default transfer matrices designed for optical as proxy. Using downgoing region also for upgoing to avoid double accounting for Earth absorption\n",
      "INFO:toise aeff calculation for radio:Using trigger: combined_array\n",
      "INFO:toise aeff calculation for radio:Using trigger: combined_array\n",
      "INFO:toise aeff calculation for radio:Using trigger: combined_array\n",
      "INFO:toise aeff calculation for radio:using number of stations from config\n",
      "INFO:toise aeff calculation for radio:applying analysis efficiency as function of neutrino energy\n",
      "INFO:toise aeff calculation for radio:applying energy resolution smearing\n",
      "INFO:radio resolution parametrisation:-- stored results:\n",
      "INFO:radio resolution parametrisation:   norm1: 0.6\n",
      "INFO:radio resolution parametrisation:   sigma1: 4.0\n",
      "INFO:radio resolution parametrisation:   norm2: 0.25\n",
      "INFO:radio resolution parametrisation:   sigma2: 30.0\n",
      "INFO:radio resolution parametrisation:   norm_const: 0.15\n",
      "INFO:toise aeff calculation for radio:generated aeff of shape (6, 60, 20, 60, 1)\n",
      "INFO:toise aeff calculation for radio:using number of stations from config\n",
      "INFO:toise radio muon background:('Total muons per station:', 0.0226643337919)\n",
      "WARNING:toise aeff calculation for radio:Direction resolution smearing not applied for atm. muons for now!\n",
      "INFO:toise aeff calculation for radio:applying energy resolution smearing\n"
     ]
    }
   ],
   "source": [
    "# create toise effective areas from the radio array, make sure here analysis efficiency and energy resolution are activated\n",
    "radio_array.switch_analysis_efficiency(True)\n",
    "radio_array.switch_energy_resolution(True)\n",
    "radio_aeff = radio_array.create()\n",
    "\n",
    "## rough dummy estimate for an atm. muon background...\n",
    "backround_muons_aeff = radio_array.create_muon_background()"
   ]
  },
  {
   "cell_type": "markdown",
   "id": "42ab4817-8718-41a7-9a66-d08c84df750f",
   "metadata": {},
   "source": [
    "In case we want to retrieve and use them later we add them to the `toise.factory` by hand. Note that the distributions we are generating now are not by default part of the factory."
   ]
  },
  {
   "cell_type": "code",
   "execution_count": 7,
   "id": "7858156f-254e-490f-92be-6ed65fc045bc",
   "metadata": {},
   "outputs": [],
   "source": [
    "factory.add_aeffs(\"radio_aeff\", (radio_aeff, backround_muons_aeff))\n",
    "# can also choose to ignore the atm. background by setting it to None\n",
    "factory.add_aeffs(\"radio_aeff_nobackground\", (radio_aeff, None))"
   ]
  },
  {
   "cell_type": "markdown",
   "id": "a58fdd80-c2ed-4b61-a06a-3d1348116e5a",
   "metadata": {},
   "source": [
    "Next, we turn some switches, to generate additional effective areas at trigger-level (i.e. we do not account tighter analysis selection) and also assume perfect energy resolution, to compare with the more realistic default `radio_aeff`."
   ]
  },
  {
   "cell_type": "code",
   "execution_count": 8,
   "id": "33e64e51-cdcf-415a-b181-0decb77f5b34",
   "metadata": {},
   "outputs": [
    {
     "name": "stderr",
     "output_type": "stream",
     "text": [
      "WARNING:toise aeff calculation for radio:using default transfer matrices designed for optical as proxy. Using downgoing region also for upgoing to avoid double accounting for Earth absorption\n",
      "INFO:toise aeff calculation for radio:Using trigger: combined_array\n",
      "INFO:toise aeff calculation for radio:Using trigger: combined_array\n",
      "INFO:toise aeff calculation for radio:Using trigger: combined_array\n",
      "INFO:toise aeff calculation for radio:using number of stations from config\n",
      "WARNING:toise aeff calculation for radio:requested to skip accounting for analysis efficiency\n",
      "WARNING:toise aeff calculation for radio:requested to skip accounting for energy resolution\n",
      "INFO:radio resolution parametrisation:-- stored results:\n",
      "INFO:radio resolution parametrisation:   norm1: 0.6\n",
      "INFO:radio resolution parametrisation:   sigma1: 4.0\n",
      "INFO:radio resolution parametrisation:   norm2: 0.25\n",
      "INFO:radio resolution parametrisation:   sigma2: 30.0\n",
      "INFO:radio resolution parametrisation:   norm_const: 0.15\n",
      "INFO:toise aeff calculation for radio:generated aeff of shape (6, 60, 20, 60, 1)\n",
      "WARNING:toise aeff calculation for radio:using default transfer matrices designed for optical as proxy. Using downgoing region also for upgoing to avoid double accounting for Earth absorption\n",
      "INFO:toise aeff calculation for radio:Using trigger: combined_array\n",
      "INFO:toise aeff calculation for radio:Using trigger: combined_array\n",
      "INFO:toise aeff calculation for radio:Using trigger: combined_array\n",
      "INFO:toise aeff calculation for radio:using number of stations from config\n",
      "WARNING:toise aeff calculation for radio:requested to skip accounting for analysis efficiency\n",
      "INFO:toise aeff calculation for radio:applying energy resolution smearing\n",
      "INFO:radio resolution parametrisation:-- stored results:\n",
      "INFO:radio resolution parametrisation:   norm1: 0.6\n",
      "INFO:radio resolution parametrisation:   sigma1: 4.0\n",
      "INFO:radio resolution parametrisation:   norm2: 0.25\n",
      "INFO:radio resolution parametrisation:   sigma2: 30.0\n",
      "INFO:radio resolution parametrisation:   norm_const: 0.15\n",
      "INFO:toise aeff calculation for radio:generated aeff of shape (6, 60, 20, 60, 1)\n",
      "WARNING:toise aeff calculation for radio:using default transfer matrices designed for optical as proxy. Using downgoing region also for upgoing to avoid double accounting for Earth absorption\n",
      "INFO:toise aeff calculation for radio:Using trigger: combined_array\n",
      "INFO:toise aeff calculation for radio:Using trigger: combined_array\n",
      "INFO:toise aeff calculation for radio:Using trigger: combined_array\n",
      "INFO:toise aeff calculation for radio:using number of stations from config\n",
      "INFO:toise aeff calculation for radio:applying analysis efficiency as function of neutrino energy\n",
      "WARNING:toise aeff calculation for radio:requested to skip accounting for energy resolution\n",
      "INFO:radio resolution parametrisation:-- stored results:\n",
      "INFO:radio resolution parametrisation:   norm1: 0.6\n",
      "INFO:radio resolution parametrisation:   sigma1: 4.0\n",
      "INFO:radio resolution parametrisation:   norm2: 0.25\n",
      "INFO:radio resolution parametrisation:   sigma2: 30.0\n",
      "INFO:radio resolution parametrisation:   norm_const: 0.15\n",
      "INFO:toise aeff calculation for radio:generated aeff of shape (6, 60, 20, 60, 1)\n"
     ]
    }
   ],
   "source": [
    "radio_array.switch_analysis_efficiency(False)\n",
    "radio_array.switch_energy_resolution(False)\n",
    "radio_aeff_perfect_E_eff = radio_array.create()\n",
    "\n",
    "radio_array.switch_analysis_efficiency(False)\n",
    "radio_array.switch_energy_resolution(True)\n",
    "radio_aeff_perfect_eff = radio_array.create()\n",
    "\n",
    "radio_array.switch_analysis_efficiency(True)\n",
    "radio_array.switch_energy_resolution(False)\n",
    "radio_aeff_perfect_E = radio_array.create()"
   ]
  },
  {
   "cell_type": "code",
   "execution_count": 9,
   "id": "3c54e03e",
   "metadata": {},
   "outputs": [],
   "source": [
    "# once again add all of them to factory, just in case\n",
    "factory.add_aeffs(\"radio_aeff_perfect_E_eff\",\n",
    "                  (radio_aeff_perfect_E_eff, None))\n",
    "factory.add_aeffs(\"radio_aeff_perfect_eff\",\n",
    "                  (radio_aeff_perfect_eff, None))\n",
    "factory.add_aeffs(\"radio_aeff_perfect_E\",\n",
    "                  (radio_aeff_perfect_E, None))"
   ]
  },
  {
   "cell_type": "markdown",
   "id": "d731a5a9-cd41-44ca-935f-59ff604452f1",
   "metadata": {},
   "source": [
    "# Observed event distribution for a diffuse astrophysical and GZK neutrino flux models\n",
    "The effective areas we have generated above can now be used to evaluate and compared the distributions of events for different flux assumptions. Within the framework, diffuse neutrino fluxes are provided in `toise.diffuse`. For convenience, the flux plots are provided as functions here and may be fed with any set of previously defined effective area tuples."
   ]
  },
  {
   "cell_type": "code",
   "execution_count": 10,
   "id": "cd502a12-daf8-4133-aec0-bdcf988e29bb",
   "metadata": {},
   "outputs": [],
   "source": [
    "from toise import diffuse\n",
    "\n",
    "def icecube_flux_plot(gamma, norm,\n",
    "                      aeff_names=[\"radio_aeff\",\n",
    "                                  \"radio_aeff_perfect_E\",\n",
    "                                  \"radio_aeff_perfect_eff\",\n",
    "                                  \"radio_aeff_perfect_E_eff\"],\n",
    "                      aeff_labels=[r'analysis level, $E_{rec}$',\n",
    "                                   r'analysis level, $E_{\\nu\\, sh}$',\n",
    "                                   r'trigger level, $E_{rec}$',\n",
    "                                   r'trigger level, $E_{\\nu\\, sh}$'],\n",
    "                      nyears=1, title=None, original_binning=False, outfile=None):\n",
    "    ## default full-decade binning unless origninal_binning is requested\n",
    "    bb = np.logspace(6,12,13)\n",
    "    edges = factory.get(aeff_names[0])['radio_events'][0].get_bin_centers('true_energy')\n",
    "    ## original binning in framework\n",
    "    if original_binning:\n",
    "        bb = edges\n",
    "    \n",
    "    fig = plt.figure()\n",
    "    ax = fig.subplots()\n",
    "\n",
    "    n_events = []\n",
    "    for aeff_name, aeff_label in zip(aeff_names, aeff_labels):\n",
    "        print(aeff_name)\n",
    "        aeff_nu = factory.get(aeff_name)['radio_events'][0]\n",
    "        astro_w =  diffuse.DiffuseAstro(aeff_nu, nyears*norm).expectations(gamma=gamma).sum(0)\n",
    "\n",
    "        linestyle = \"-\"\n",
    "        if \"trigger\" in aeff_label:\n",
    "            linestyle = \"--\"\n",
    "        (n, bins, patches) = ax.hist(edges,\n",
    "                                      bins = bb,\n",
    "                                      weights=astro_w,\n",
    "                                      histtype='step',\n",
    "                                      label=aeff_label, linewidth=3, linestyle=linestyle)\n",
    "        n_events.append(np.sum(n))\n",
    "    ax.set_xscale('log')\n",
    "\n",
    "    ax.set_xlabel('neutrino energy proxy (GeV)')\n",
    "    ax.set_ylabel('# events / bin / %i years' %nyears)\n",
    "    plot_title = 'diffuse flux'\n",
    "    legend_title = r'$E^{%.2f}\\Phi_{1\\nu} = {%.2f}\\cdot 10^{-8}\\frac{{GeV}^{%.2f}}{{cm}^{2}{\\ s\\ sr}}$' %(-gamma, norm, -1-gamma)\n",
    "    if not title is None:\n",
    "        plot_title += \", \" + title\n",
    "    ax.set_title(plot_title)\n",
    "    ax.set_xlim([1e6,1e12])\n",
    "    ax.legend(title=legend_title)\n",
    "    print('event numbers:', n_events)\n",
    "    return n_events"
   ]
  },
  {
   "cell_type": "code",
   "execution_count": 11,
   "id": "ea148f9b-e2b8-4dae-90bc-d3023d43a211",
   "metadata": {},
   "outputs": [],
   "source": [
    "from toise import diffuse\n",
    "\n",
    "def gzk_flux_plot(gzk='VanVliet',\n",
    "                  aeff_names=[\"radio_aeff\",\n",
    "                              \"radio_aeff_perfect_E\",\n",
    "                              \"radio_aeff_perfect_eff\",\n",
    "                              \"radio_aeff_perfect_E_eff\"],\n",
    "                  aeff_labels=[r'analysis level, $E_{rec}$',\n",
    "                               r'analysis level, $E_{\\nu\\, sh}$',\n",
    "                               r'trigger level, $E_{rec}$',\n",
    "                               r'trigger level, $E_{\\nu\\, sh}$'],\n",
    "                  nyears=1, original_binning=False, title=None, outfile=None):\n",
    "    ## half decade binning\n",
    "    bb = np.logspace(6,12,13)\n",
    "    ## original binning in framework\n",
    "    edges = factory.get(aeff_names[0])['radio_events'][0].get_bin_centers('true_energy')\n",
    "    if original_binning:\n",
    "        bb = edges\n",
    "        \n",
    "    if gzk == 'VanVliet':\n",
    "        # Van Vliet et al., alpha=2.0, E_max=100 EeV, assuming post-ankle flux is pure protons\n",
    "        # cf. Phys. Rev. D 100, 021302 (2019)\n",
    "        obj = diffuse.VanVlietGZK\n",
    "    elif gzk == 'Ahlers':\n",
    "        # Minimal GZK neutrino flux, assuming that post-ankle flux in Auger/TA is pure protons\n",
    "        # cf. http://journals.aps.org/prd/abstract/10.1103/PhysRevD.86.083010, Fig 2.\n",
    "        obj = diffuse.AhlersGZK\n",
    "    elif gzk == 'Reasonable':\n",
    "        # Van Vliet et al., fit to Auger data, alpha=2.5, E_max=100 EeV, m=3.4, 10% proton fraction\n",
    "        obj = diffuse.ReasonableGZK\n",
    "    else:\n",
    "        print(\"ERROR invalid flux\")\n",
    "    \n",
    "    fig = plt.figure()\n",
    "    ax = fig.subplots()\n",
    "\n",
    "    n_events = []\n",
    "    for aeff_name, aeff_label in zip(aeff_names, aeff_labels):\n",
    "        print(aeff_name)\n",
    "        astro_w =  obj(factory.get(aeff_name)['radio_events'][0], nyears).expectations().sum(0)\n",
    "        linestyle = \"-\"\n",
    "        if \"trigger\" in aeff_label:\n",
    "            linestyle = \"--\"\n",
    "        (n, bins, patches) = ax.hist(edges,\n",
    "                                      bins = bb,\n",
    "                                      weights=astro_w, histtype='step',\n",
    "                                      label=aeff_label, linewidth=3, linestyle=linestyle)\n",
    "        n_events.append(np.sum(n))\n",
    "\n",
    "    ax.set_xscale('log')\n",
    "\n",
    "    ax.set_xlabel('Neutrino energy (GeV)')\n",
    "    ax.set_ylabel('# events / bin / %i years' %nyears)\n",
    "    if title is not None:\n",
    "        ax.set_title(r\"%s GZK flux, %s\" %(gzk, title))\n",
    "    else:\n",
    "        ax.set_title(r\"%s GZK flux\" %(gzk))\n",
    "    ax.set_xlim([1e6,1e11])\n",
    "    ax.legend(loc='upper left')\n",
    "    print('event numbers:', n_events)\n",
    "    if outfile is not None:\n",
    "        fig.savefig(outfile + \".pdf\")\n",
    "        fig.savefig(outfile + \".png\")\n",
    "    return n_events"
   ]
  },
  {
   "cell_type": "code",
   "execution_count": 12,
   "id": "8b965dac-f43c-418f-9727-134034c26ff0",
   "metadata": {},
   "outputs": [
    {
     "name": "stdout",
     "output_type": "stream",
     "text": [
      "radio_aeff\n",
      "radio_aeff_perfect_E\n",
      "radio_aeff_perfect_eff\n",
      "radio_aeff_perfect_E_eff\n",
      "event numbers: [3.952985809754227, 4.1088682171949324, 5.940861628749608, 6.19279904276203]\n"
     ]
    },
    {
     "data": {
      "image/png": "[encoded data removed]",
      "text/plain": [
       "<Figure size 432x288 with 1 Axes>"
      ]
     },
     "metadata": {
      "needs_background": "light"
     },
     "output_type": "display_data"
    }
   ],
   "source": [
    "title = f\"{nstations} stations\"\n",
    "flux_norm = 1.36\n",
    "gamma = -2.37\n",
    "n_events_total_per_array = icecube_flux_plot(gamma=gamma, norm=flux_norm, nyears=nyears, original_binning=False, title=title, outfile=None)"
   ]
  },
  {
   "cell_type": "code",
   "execution_count": 13,
   "id": "018bcffe-b070-4266-a69c-7675609cd01b",
   "metadata": {},
   "outputs": [
    {
     "name": "stdout",
     "output_type": "stream",
     "text": [
      "radio_aeff\n",
      "radio_aeff_perfect_E\n",
      "radio_aeff_perfect_eff\n",
      "radio_aeff_perfect_E_eff\n",
      "event numbers: [6.518301899440294, 6.752856573316329, 9.230859309443256, 9.583517664854465]\n"
     ]
    },
    {
     "data": {
      "image/png": "[encoded data removed]",
      "text/plain": [
       "<Figure size 432x288 with 1 Axes>"
      ]
     },
     "metadata": {
      "needs_background": "light"
     },
     "output_type": "display_data"
    }
   ],
   "source": [
    "title = f\"{nstations} stations\"\n",
    "n_events_total_per_array = gzk_flux_plot(gzk='VanVliet', \n",
    "    nyears=nyears, original_binning=False, title=title, outfile='GZK_flux_figure')"
   ]
  },
  {
   "cell_type": "markdown",
   "id": "1e297934-5fcb-4dd0-aefd-3164fe2439d4",
   "metadata": {},
   "source": [
    "One may also inspect the event distributions in true cos(zenith) bins and reconstructed energy"
   ]
  },
  {
   "cell_type": "code",
   "execution_count": 14,
   "id": "300ebaae-3aab-4d0b-86da-e3477c5dd3dc",
   "metadata": {},
   "outputs": [
    {
     "data": {
      "text/plain": [
       "<matplotlib.colorbar.Colorbar at 0x1474e8d30>"
      ]
     },
     "execution_count": 14,
     "metadata": {},
     "output_type": "execute_result"
    },
    {
     "data": {
      "image/png": "[encoded data removed]",
      "text/plain": [
       "<Figure size 432x288 with 2 Axes>"
      ]
     },
     "metadata": {
      "needs_background": "light"
     },
     "output_type": "display_data"
    }
   ],
   "source": [
    "from toise import diffuse\n",
    "from matplotlib.colors import LogNorm #logarithmic coloring\n",
    "\n",
    "\n",
    "astro = diffuse.DiffuseAstro(radio_aeff, nyears).expectations()\n",
    "\n",
    "plt.pcolormesh(radio_aeff.get_bin_edges('true_energy'),\n",
    "               radio_aeff.get_bin_edges(\"true_zenith_band\"),\n",
    "               astro)\n",
    "plt.xlabel(r\"$E_{reco}$ (GeV)\")\n",
    "plt.ylabel(r\"cos($\\theta_z$)\")\n",
    "plt.title(f\"number of events / bin / {nyears} years\")\n",
    "plt.semilogx()\n",
    "plt.colorbar()"
   ]
  },
  {
   "cell_type": "markdown",
   "id": "c0a8c87b-5c5f-47c5-9dda-0e8a59468b69",
   "metadata": {},
   "source": [
    "This shows a general property, that UHE neutrino fluxes are absorbed by the Earth below horizon, and become invisible for low theta (cos(theta) close to one)."
   ]
  },
  {
   "cell_type": "markdown",
   "id": "a24f93d9-22f0-4044-9ec2-7bc75228f054",
   "metadata": {},
   "source": [
    "# Comparison of the neutrino energy distribution of detected astrophysical and GZK neutrino fluxes\n",
    "now that we have plotted the reconstructed energy distribution for an astrophysical and a GZK neutrino flux model, let's look at the true neutrino energy distribution of the detected events. For this, we use the `differential_chunks` member function"
   ]
  },
  {
   "cell_type": "code",
   "execution_count": 15,
   "id": "57a9346e-0724-450f-97c8-49c43c262ffb",
   "metadata": {},
   "outputs": [
    {
     "name": "stderr",
     "output_type": "stream",
     "text": [
      "/Users/shallmann/software/toise/toise/diffuse.py:839: RuntimeWarning: divide by zero encountered in log10\n",
      "  logWeight = np.log10(Weight)  # flux is expected for all-flavour\n"
     ]
    },
    {
     "data": {
      "text/plain": [
       "<matplotlib.legend.Legend at 0x147009940>"
      ]
     },
     "execution_count": 15,
     "metadata": {},
     "output_type": "execute_result"
    },
    {
     "data": {
      "image/png": "[encoded data removed]",
      "text/plain": [
       "<Figure size 432x288 with 1 Axes>"
      ]
     },
     "metadata": {
      "needs_background": "light"
     },
     "output_type": "display_data"
    }
   ],
   "source": [
    "edges = np.logspace(15.75,20.25,10)\n",
    "\n",
    "gamma = -2.37\n",
    "flux_norm = 1.36\n",
    "\n",
    "# for a diffuse flux, we can just scale by the number of years x normalisation\n",
    "diff_astro = diffuse.DiffuseAstro(radio_aeff, nyears*flux_norm)\n",
    "\n",
    "arr = []\n",
    "for E, fluxchunk in diff_astro.differential_chunks(decades=0.1, exclusive=True):\n",
    "    n_events = fluxchunk.expectations(gamma=gamma).sum()\n",
    "    arr.append([E, n_events])\n",
    "arr = np.array(arr)\n",
    "\n",
    "plt.hist(arr[:,0]*1e9 , bins=edges, weights=arr[:,1], histtype='step', label=r'IceCube E$^{-2.37}$', linewidth=2)\n",
    "\n",
    "\n",
    "diff_gzk = diffuse.ReasonableGZK(radio_aeff, nyears)\n",
    "\n",
    "arr = []\n",
    "for E, fluxchunk in diff_gzk.differential_chunks(decades=0.1, exclusive=True):\n",
    "    n_events = fluxchunk.expectations().sum()\n",
    "    arr.append([E, n_events])\n",
    "arr = np.array(arr)\n",
    "\n",
    "plt.hist(arr[:,0]*1e9 , bins=edges, weights=arr[:,1], histtype='step', label=r'GZK, best fit to Auger, 10% proton', linewidth=2)\n",
    "\n",
    "plt.semilogx()\n",
    "plt.xlabel('neutrino energy [eV]')\n",
    "plt.ylabel(f'events array / bin / {nyears} years')\n",
    "plt.legend(loc=3)\n"
   ]
  },
  {
   "cell_type": "markdown",
   "id": "2f885a91-50de-4db1-9a13-cebc55a7c84c",
   "metadata": {
    "tags": []
   },
   "source": [
    "# Comparison of GZK fluxes"
   ]
  },
  {
   "cell_type": "markdown",
   "id": "a5b90931-10da-4e84-9b6a-76849f17d7f7",
   "metadata": {},
   "source": [
    "Let's compare the different GZK fluxes implemented in `toise`"
   ]
  },
  {
   "cell_type": "code",
   "execution_count": 16,
   "id": "a2f8c255-bc46-4167-8226-1da2ba5ced41",
   "metadata": {},
   "outputs": [
    {
     "name": "stderr",
     "output_type": "stream",
     "text": [
      "/Users/shallmann/software/toise/toise/diffuse.py:839: RuntimeWarning: divide by zero encountered in log10\n",
      "  logWeight = np.log10(Weight)  # flux is expected for all-flavour\n"
     ]
    },
    {
     "data": {
      "text/plain": [
       "<matplotlib.legend.Legend at 0x146d2b4c0>"
      ]
     },
     "execution_count": 16,
     "metadata": {},
     "output_type": "execute_result"
    },
    {
     "data": {
      "image/png": "[encoded data removed]",
      "text/plain": [
       "<Figure size 432x288 with 1 Axes>"
      ]
     },
     "metadata": {
      "needs_background": "light"
     },
     "output_type": "display_data"
    }
   ],
   "source": [
    "from toise.diffuse import AhlersGZKFlux, VanVlietGZKFlux, ReasonableGZKFlux\n",
    "\n",
    "logEmin = 7\n",
    "logEmax = 10\n",
    "E = np.logspace(logEmin, logEmax, 100)\n",
    "\n",
    "plt.plot(E*1e9, AhlersGZKFlux()(E)*E**2, \"-\", label=r\"Ahlers flux, 100% protons\")\n",
    "plt.plot(E*1e9, VanVlietGZKFlux()(E)*E**2, \"--\", label=r\"Van Vliet et al., $\\alpha$=2.0, E$_{max}$=100 EeV, 100% protons\")\n",
    "plt.plot(E*1e9, ReasonableGZKFlux()(E)*E**2, \":\",  label=r\"Van Vliet et al, $\\alpha$=2.5, E$_{max}$=100 EeV, m=3.4, 10% prot.\")\n",
    "\n",
    "plt.xlabel(\"neutrino energy [eV]\")\n",
    "plt.ylabel(r\"$E^{2}$d$N$/d$E$ [GeV cm$^{-2}$ s$^{-1}$ sr$^{-1}$]\")\n",
    "plt.ylim(1e-10, 1e-7)\n",
    "plt.xlim(10**(logEmin+9), 10**(logEmax+9))\n",
    "plt.loglog()\n",
    "plt.legend()"
   ]
  },
  {
   "cell_type": "code",
   "execution_count": null,
   "id": "790e966c-6e43-4034-bcf3-fe7ecaaf00e2",
   "metadata": {},
   "outputs": [],
   "source": []
  }
 ],
 "metadata": {
  "kernelspec": {
   "display_name": "Python 3 (ipykernel)",
   "language": "python",
   "name": "python3"
  },
  "language_info": {
   "codemirror_mode": {
    "name": "ipython",
    "version": 3
   },
   "file_extension": ".py",
   "mimetype": "text/x-python",
   "name": "python",
   "nbconvert_exporter": "python",
   "pygments_lexer": "ipython3",
   "version": "3.9.9"
  }
 },
 "nbformat": 4,
 "nbformat_minor": 5
}
